{
 "cells": [
  {
   "cell_type": "code",
   "execution_count": 2,
   "metadata": {},
   "outputs": [],
   "source": [
    "import json\n",
    "from json.decoder import JSONDecodeError"
   ]
  },
  {
   "cell_type": "code",
   "execution_count": 6,
   "metadata": {},
   "outputs": [
    {
     "data": {
      "text/plain": [
       "'/Users/timothymiller/Galvanize/repos/fraud-detection-case-study/notebooks'"
      ]
     },
     "execution_count": 6,
     "metadata": {},
     "output_type": "execute_result"
    }
   ],
   "source": [
    "%pwd"
   ]
  },
  {
   "cell_type": "code",
   "execution_count": 7,
   "metadata": {},
   "outputs": [],
   "source": [
    "with open('../data/raw/data.json', 'r') as handle:\n",
    "    data = json.load(handle)"
   ]
  },
  {
   "cell_type": "code",
   "execution_count": 8,
   "metadata": {},
   "outputs": [
    {
     "name": "stdout",
     "output_type": "stream",
     "text": [
      "{\n",
      "    \"acct_type\": \"fraudster\",\n",
      "    \"approx_payout_date\": 1299607200,\n",
      "    \"body_length\": 870,\n",
      "    \"channels\": 11,\n",
      "    \"country\": \"US\",\n",
      "    \"currency\": \"USD\",\n",
      "    \"delivery_method\": 0.0,\n",
      "    \"description\": \"<h1 class=\\\"post\\\">Welcome</h1>\\r\\n<p>\\u00a0</p>\\r\\n<div class=\\\"entry\\\">\\r\\n<div class=\\\"article\\\">\\r\\n<h1 style=\\\"text-align: center;\\\"><span style=\\\"color: #800000;\\\"><strong>5th Annual Earth Transformation Conference: </strong></span></h1>\\r\\n<h1 style=\\\"text-align: center;\\\"><span style=\\\"color: #800000;\\\"><strong>Igniting the Inner Spark </strong></span></h1>\\r\\n<h1 style=\\\"text-align: center;\\\"><span style=\\\"color: #800000;\\\">Additional seminars before and after</span></h1>\\r\\n<h2 style=\\\"text-align: center;\\\"><span style=\\\"color: #800000;\\\"><strong>Dec 29, 2010 \\u2013\\u00a0Feb 28, 2011 session</strong></span></h2>\\r\\n<p style=\\\"text-align: center;\\\"><strong>Featuring: Braco</strong></p>\\r\\n<p style=\\\"text-align: center;\\\"><strong></strong></p>\\r\\n<p style=\\\"text-align: center;\\\"><a href=\\\"http://earthtransformation.com/\\\">http://earthtransformation.com/</a></p>\\r\\n<p style=\\\"text-align: center;\\\">\\u00a0</p>\\r\\n</div>\\r\\n</div>\",\n",
      "    \"email_domain\": \"hotmail.com\",\n",
      "    \"event_created\": 1299171416,\n",
      "    \"event_end\": 1299175200,\n",
      "    \"event_published\": 1299171498.0,\n",
      "    \"event_start\": 1299173400,\n",
      "    \"fb_published\": 0,\n",
      "    \"gts\": 634.98,\n",
      "    \"has_analytics\": 0,\n",
      "    \"has_header\": 0.0,\n",
      "    \"has_logo\": 0,\n",
      "    \"listed\": \"n\",\n",
      "    \"name\": \"Series 2 of CSI Seminars for Transformation Expo\",\n",
      "    \"name_length\": 48,\n",
      "    \"num_order\": 1,\n",
      "    \"num_payouts\": 0,\n",
      "    \"object_id\": 1386643,\n",
      "    \"org_desc\": \"\",\n",
      "    \"org_facebook\": 0.0,\n",
      "    \"org_name\": \"\",\n",
      "    \"org_twitter\": 0.0,\n",
      "    \"payee_name\": \"\",\n",
      "    \"payout_type\": \"ACH\",\n",
      "    \"previous_payouts\": [],\n",
      "    \"sale_duration\": 0.0,\n",
      "    \"sale_duration2\": 0,\n",
      "    \"show_map\": 0,\n",
      "    \"ticket_types\": [\n",
      "        {\n",
      "            \"availability\": 1,\n",
      "            \"cost\": 300.0,\n",
      "            \"event_id\": 1386643,\n",
      "            \"quantity_sold\": 2,\n",
      "            \"quantity_total\": 25\n",
      "        },\n",
      "        {\n",
      "            \"availability\": 1,\n",
      "            \"cost\": 200.0,\n",
      "            \"event_id\": 1386643,\n",
      "            \"quantity_sold\": 0,\n",
      "            \"quantity_total\": 10\n",
      "        }\n",
      "    ],\n",
      "    \"user_age\": 42,\n",
      "    \"user_created\": 1295576777,\n",
      "    \"user_type\": 3,\n",
      "    \"venue_address\": \"400 Fifth Avenue\",\n",
      "    \"venue_country\": \"US\",\n",
      "    \"venue_latitude\": 40.750228,\n",
      "    \"venue_longitude\": -73.983714,\n",
      "    \"venue_name\": \"The Setai\",\n",
      "    \"venue_state\": \"NY\"\n",
      "}\n"
     ]
    }
   ],
   "source": [
    "# print(json.dumps(VARIABLE, sort_keys=True, indent=4))\n",
    "print(json.dumps(data[26], sort_keys=True, indent=4))"
   ]
  },
  {
   "cell_type": "code",
   "execution_count": 10,
   "metadata": {},
   "outputs": [],
   "source": [
    "import pandas as pd\n",
    "df = pd.read_json(r'../data/raw/data.json')"
   ]
  },
  {
   "cell_type": "code",
   "execution_count": 11,
   "metadata": {},
   "outputs": [
    {
     "data": {
      "text/html": [
       "<div>\n",
       "<style scoped>\n",
       "    .dataframe tbody tr th:only-of-type {\n",
       "        vertical-align: middle;\n",
       "    }\n",
       "\n",
       "    .dataframe tbody tr th {\n",
       "        vertical-align: top;\n",
       "    }\n",
       "\n",
       "    .dataframe thead th {\n",
       "        text-align: right;\n",
       "    }\n",
       "</style>\n",
       "<table border=\"1\" class=\"dataframe\">\n",
       "  <thead>\n",
       "    <tr style=\"text-align: right;\">\n",
       "      <th></th>\n",
       "      <th>acct_type</th>\n",
       "      <th>approx_payout_date</th>\n",
       "      <th>body_length</th>\n",
       "      <th>channels</th>\n",
       "      <th>country</th>\n",
       "      <th>currency</th>\n",
       "      <th>delivery_method</th>\n",
       "      <th>description</th>\n",
       "      <th>email_domain</th>\n",
       "      <th>event_created</th>\n",
       "      <th>...</th>\n",
       "      <th>ticket_types</th>\n",
       "      <th>user_age</th>\n",
       "      <th>user_created</th>\n",
       "      <th>user_type</th>\n",
       "      <th>venue_address</th>\n",
       "      <th>venue_country</th>\n",
       "      <th>venue_latitude</th>\n",
       "      <th>venue_longitude</th>\n",
       "      <th>venue_name</th>\n",
       "      <th>venue_state</th>\n",
       "    </tr>\n",
       "  </thead>\n",
       "  <tbody>\n",
       "    <tr>\n",
       "      <td>0</td>\n",
       "      <td>fraudster_event</td>\n",
       "      <td>1266062400</td>\n",
       "      <td>3852</td>\n",
       "      <td>5</td>\n",
       "      <td>US</td>\n",
       "      <td>USD</td>\n",
       "      <td>0.0</td>\n",
       "      <td>&lt;p&gt;&lt;a href=\"http://s432.photobucket.com/albums...</td>\n",
       "      <td>gmail.com</td>\n",
       "      <td>1262739706</td>\n",
       "      <td>...</td>\n",
       "      <td>[{'event_id': 527017, 'cost': 25.0, 'availabil...</td>\n",
       "      <td>36</td>\n",
       "      <td>1259613950</td>\n",
       "      <td>1</td>\n",
       "      <td>717 Washington Avenue</td>\n",
       "      <td>US</td>\n",
       "      <td>25.777471</td>\n",
       "      <td>-80.133433</td>\n",
       "      <td>INK Nightclub - South Beach</td>\n",
       "      <td>FL</td>\n",
       "    </tr>\n",
       "  </tbody>\n",
       "</table>\n",
       "<p>1 rows × 44 columns</p>\n",
       "</div>"
      ],
      "text/plain": [
       "         acct_type  approx_payout_date  body_length  channels country  \\\n",
       "0  fraudster_event          1266062400         3852         5      US   \n",
       "\n",
       "  currency  delivery_method  \\\n",
       "0      USD              0.0   \n",
       "\n",
       "                                         description email_domain  \\\n",
       "0  <p><a href=\"http://s432.photobucket.com/albums...    gmail.com   \n",
       "\n",
       "   event_created  ...                                       ticket_types  \\\n",
       "0     1262739706  ...  [{'event_id': 527017, 'cost': 25.0, 'availabil...   \n",
       "\n",
       "   user_age  user_created  user_type          venue_address  venue_country  \\\n",
       "0        36    1259613950          1  717 Washington Avenue             US   \n",
       "\n",
       "   venue_latitude  venue_longitude                   venue_name venue_state  \n",
       "0       25.777471       -80.133433  INK Nightclub - South Beach          FL  \n",
       "\n",
       "[1 rows x 44 columns]"
      ]
     },
     "execution_count": 11,
     "metadata": {},
     "output_type": "execute_result"
    }
   ],
   "source": [
    "df.head(1)"
   ]
  },
  {
   "cell_type": "code",
   "execution_count": 12,
   "metadata": {
    "scrolled": true
   },
   "outputs": [
    {
     "data": {
      "text/html": [
       "<div>\n",
       "<style scoped>\n",
       "    .dataframe tbody tr th:only-of-type {\n",
       "        vertical-align: middle;\n",
       "    }\n",
       "\n",
       "    .dataframe tbody tr th {\n",
       "        vertical-align: top;\n",
       "    }\n",
       "\n",
       "    .dataframe thead th {\n",
       "        text-align: right;\n",
       "    }\n",
       "</style>\n",
       "<table border=\"1\" class=\"dataframe\">\n",
       "  <thead>\n",
       "    <tr style=\"text-align: right;\">\n",
       "      <th></th>\n",
       "      <th>acct_type</th>\n",
       "      <th>approx_payout_date</th>\n",
       "      <th>body_length</th>\n",
       "      <th>channels</th>\n",
       "      <th>country</th>\n",
       "      <th>currency</th>\n",
       "      <th>delivery_method</th>\n",
       "      <th>description</th>\n",
       "      <th>email_domain</th>\n",
       "      <th>event_created</th>\n",
       "      <th>...</th>\n",
       "      <th>ticket_types</th>\n",
       "      <th>user_age</th>\n",
       "      <th>user_created</th>\n",
       "      <th>user_type</th>\n",
       "      <th>venue_address</th>\n",
       "      <th>venue_country</th>\n",
       "      <th>venue_latitude</th>\n",
       "      <th>venue_longitude</th>\n",
       "      <th>venue_name</th>\n",
       "      <th>venue_state</th>\n",
       "    </tr>\n",
       "  </thead>\n",
       "  <tbody>\n",
       "    <tr>\n",
       "      <td>0</td>\n",
       "      <td>fraudster_event</td>\n",
       "      <td>1266062400</td>\n",
       "      <td>3852</td>\n",
       "      <td>5</td>\n",
       "      <td>US</td>\n",
       "      <td>USD</td>\n",
       "      <td>0.0</td>\n",
       "      <td>&lt;p&gt;&lt;a href=\"http://s432.photobucket.com/albums...</td>\n",
       "      <td>gmail.com</td>\n",
       "      <td>1262739706</td>\n",
       "      <td>...</td>\n",
       "      <td>[{'event_id': 527017, 'cost': 25.0, 'availabil...</td>\n",
       "      <td>36</td>\n",
       "      <td>1259613950</td>\n",
       "      <td>1</td>\n",
       "      <td>717 Washington Avenue</td>\n",
       "      <td>US</td>\n",
       "      <td>25.777471</td>\n",
       "      <td>-80.133433</td>\n",
       "      <td>INK Nightclub - South Beach</td>\n",
       "      <td>FL</td>\n",
       "    </tr>\n",
       "    <tr>\n",
       "      <td>26</td>\n",
       "      <td>fraudster</td>\n",
       "      <td>1299607200</td>\n",
       "      <td>870</td>\n",
       "      <td>11</td>\n",
       "      <td>US</td>\n",
       "      <td>USD</td>\n",
       "      <td>0.0</td>\n",
       "      <td>&lt;h1 class=\"post\"&gt;Welcome&lt;/h1&gt;\\r\\n&lt;p&gt; &lt;/p&gt;\\r\\n&lt;...</td>\n",
       "      <td>hotmail.com</td>\n",
       "      <td>1299171416</td>\n",
       "      <td>...</td>\n",
       "      <td>[{'event_id': 1386643, 'cost': 300.0, 'availab...</td>\n",
       "      <td>42</td>\n",
       "      <td>1295576777</td>\n",
       "      <td>3</td>\n",
       "      <td>400 Fifth Avenue</td>\n",
       "      <td>US</td>\n",
       "      <td>40.750228</td>\n",
       "      <td>-73.983714</td>\n",
       "      <td>The Setai</td>\n",
       "      <td>NY</td>\n",
       "    </tr>\n",
       "    <tr>\n",
       "      <td>51</td>\n",
       "      <td>fraudster_event</td>\n",
       "      <td>1329465600</td>\n",
       "      <td>536</td>\n",
       "      <td>6</td>\n",
       "      <td>US</td>\n",
       "      <td>USD</td>\n",
       "      <td>0.0</td>\n",
       "      <td>&lt;p&gt;&lt;span style=\"font-size: x-large;\"&gt;Okay ever...</td>\n",
       "      <td>cox.net</td>\n",
       "      <td>1317544696</td>\n",
       "      <td>...</td>\n",
       "      <td>[{'event_id': 1928009, 'cost': 30.0, 'availabi...</td>\n",
       "      <td>77</td>\n",
       "      <td>1310957994</td>\n",
       "      <td>1</td>\n",
       "      <td>404 euclid ave</td>\n",
       "      <td>US</td>\n",
       "      <td>32.702072</td>\n",
       "      <td>-117.085088</td>\n",
       "      <td>The Jacobs Center at Market Creek</td>\n",
       "      <td>CA</td>\n",
       "    </tr>\n",
       "    <tr>\n",
       "      <td>54</td>\n",
       "      <td>fraudster</td>\n",
       "      <td>1312761600</td>\n",
       "      <td>3081</td>\n",
       "      <td>11</td>\n",
       "      <td></td>\n",
       "      <td>GBP</td>\n",
       "      <td>0.0</td>\n",
       "      <td>&lt;h3&gt;&lt;strong&gt;&lt;strong&gt;&lt;span style=\"font-family: ...</td>\n",
       "      <td>hotmail.co.uk</td>\n",
       "      <td>1311717051</td>\n",
       "      <td>...</td>\n",
       "      <td>[{'event_id': 1964043, 'cost': 500.0, 'availab...</td>\n",
       "      <td>0</td>\n",
       "      <td>1311717050</td>\n",
       "      <td>1</td>\n",
       "      <td>Hammersmith Road</td>\n",
       "      <td></td>\n",
       "      <td>0.000000</td>\n",
       "      <td>0.000000</td>\n",
       "      <td>Olympia Exhibition Hall</td>\n",
       "      <td></td>\n",
       "    </tr>\n",
       "    <tr>\n",
       "      <td>70</td>\n",
       "      <td>fraudster</td>\n",
       "      <td>1322895600</td>\n",
       "      <td>0</td>\n",
       "      <td>13</td>\n",
       "      <td>US</td>\n",
       "      <td>USD</td>\n",
       "      <td>0.0</td>\n",
       "      <td></td>\n",
       "      <td>yahoo.com</td>\n",
       "      <td>1316795942</td>\n",
       "      <td>...</td>\n",
       "      <td>[{'event_id': 2228484, 'cost': 30.0, 'availabi...</td>\n",
       "      <td>0</td>\n",
       "      <td>1316795486</td>\n",
       "      <td>1</td>\n",
       "      <td>5801 Security Blvd</td>\n",
       "      <td>US</td>\n",
       "      <td>39.308752</td>\n",
       "      <td>-76.716174</td>\n",
       "      <td></td>\n",
       "      <td>MD</td>\n",
       "    </tr>\n",
       "    <tr>\n",
       "      <td>...</td>\n",
       "      <td>...</td>\n",
       "      <td>...</td>\n",
       "      <td>...</td>\n",
       "      <td>...</td>\n",
       "      <td>...</td>\n",
       "      <td>...</td>\n",
       "      <td>...</td>\n",
       "      <td>...</td>\n",
       "      <td>...</td>\n",
       "      <td>...</td>\n",
       "      <td>...</td>\n",
       "      <td>...</td>\n",
       "      <td>...</td>\n",
       "      <td>...</td>\n",
       "      <td>...</td>\n",
       "      <td>...</td>\n",
       "      <td>...</td>\n",
       "      <td>...</td>\n",
       "      <td>...</td>\n",
       "      <td>...</td>\n",
       "      <td>...</td>\n",
       "    </tr>\n",
       "    <tr>\n",
       "      <td>14316</td>\n",
       "      <td>fraudster_event</td>\n",
       "      <td>1360310400</td>\n",
       "      <td>3276</td>\n",
       "      <td>4</td>\n",
       "      <td>GB</td>\n",
       "      <td>GBP</td>\n",
       "      <td>0.0</td>\n",
       "      <td>&lt;div id=\"yui_3_7_2_16_1358948795407_159\" style...</td>\n",
       "      <td>hotmail.co.uk</td>\n",
       "      <td>1358948648</td>\n",
       "      <td>...</td>\n",
       "      <td>[{'event_id': 5301408, 'cost': 120.0, 'availab...</td>\n",
       "      <td>0</td>\n",
       "      <td>1358948648</td>\n",
       "      <td>1</td>\n",
       "      <td>Sagar Street</td>\n",
       "      <td></td>\n",
       "      <td>53.523896</td>\n",
       "      <td>-2.276553</td>\n",
       "      <td>Al Maidah Banquet Hall and Restaurant</td>\n",
       "      <td></td>\n",
       "    </tr>\n",
       "    <tr>\n",
       "      <td>14318</td>\n",
       "      <td>fraudster_event</td>\n",
       "      <td>1359784800</td>\n",
       "      <td>448</td>\n",
       "      <td>0</td>\n",
       "      <td>US</td>\n",
       "      <td>USD</td>\n",
       "      <td>0.0</td>\n",
       "      <td>&lt;p&gt;Help us produce this incredible experience....</td>\n",
       "      <td>gmail.com</td>\n",
       "      <td>1358975278</td>\n",
       "      <td>...</td>\n",
       "      <td>[{'event_id': 5307036, 'cost': 55.0, 'availabi...</td>\n",
       "      <td>0</td>\n",
       "      <td>1358975276</td>\n",
       "      <td>1</td>\n",
       "      <td>94 West Houston Street</td>\n",
       "      <td>US</td>\n",
       "      <td>40.727236</td>\n",
       "      <td>-74.000090</td>\n",
       "      <td>Madame X</td>\n",
       "      <td>NY</td>\n",
       "    </tr>\n",
       "    <tr>\n",
       "      <td>14325</td>\n",
       "      <td>fraudster_event</td>\n",
       "      <td>1360049400</td>\n",
       "      <td>996</td>\n",
       "      <td>0</td>\n",
       "      <td>US</td>\n",
       "      <td>USD</td>\n",
       "      <td>0.0</td>\n",
       "      <td>&lt;p&gt;&lt;span style=\"font-size: medium;\"&gt;&lt;strong&gt;Yo...</td>\n",
       "      <td>gmail.com</td>\n",
       "      <td>1359415821</td>\n",
       "      <td>...</td>\n",
       "      <td>[{'event_id': 5350990, 'cost': 649.65, 'availa...</td>\n",
       "      <td>0</td>\n",
       "      <td>1359415820</td>\n",
       "      <td>1</td>\n",
       "      <td>3280 Peachtree Rd NE</td>\n",
       "      <td>US</td>\n",
       "      <td>33.844403</td>\n",
       "      <td>-84.370374</td>\n",
       "      <td>AQUANOX</td>\n",
       "      <td>GA</td>\n",
       "    </tr>\n",
       "    <tr>\n",
       "      <td>14332</td>\n",
       "      <td>fraudster_event</td>\n",
       "      <td>1361689200</td>\n",
       "      <td>667</td>\n",
       "      <td>0</td>\n",
       "      <td>US</td>\n",
       "      <td>USD</td>\n",
       "      <td>0.0</td>\n",
       "      <td>&lt;p&gt;Celebrates this wonderful holiday with the ...</td>\n",
       "      <td>yahoo.com</td>\n",
       "      <td>1360297993</td>\n",
       "      <td>...</td>\n",
       "      <td>[{'event_id': 5456442, 'cost': 45.0, 'availabi...</td>\n",
       "      <td>0</td>\n",
       "      <td>1360297993</td>\n",
       "      <td>1</td>\n",
       "      <td>6100 North Charles Street</td>\n",
       "      <td>US</td>\n",
       "      <td>39.373780</td>\n",
       "      <td>-76.629921</td>\n",
       "      <td>Elkridge Club</td>\n",
       "      <td>MD</td>\n",
       "    </tr>\n",
       "    <tr>\n",
       "      <td>14336</td>\n",
       "      <td>fraudster_event</td>\n",
       "      <td>1363316400</td>\n",
       "      <td>0</td>\n",
       "      <td>0</td>\n",
       "      <td>GB</td>\n",
       "      <td>GBP</td>\n",
       "      <td>0.0</td>\n",
       "      <td></td>\n",
       "      <td>gmail.com</td>\n",
       "      <td>1360686846</td>\n",
       "      <td>...</td>\n",
       "      <td>[{'event_id': 5492990, 'cost': 283.0, 'availab...</td>\n",
       "      <td>0</td>\n",
       "      <td>1360686845</td>\n",
       "      <td>1</td>\n",
       "      <td>192 Pembroke Street</td>\n",
       "      <td>GB</td>\n",
       "      <td>51.460131</td>\n",
       "      <td>-2.586503</td>\n",
       "      <td>massage salon private house</td>\n",
       "      <td>Bristol, City Of</td>\n",
       "    </tr>\n",
       "  </tbody>\n",
       "</table>\n",
       "<p>1293 rows × 44 columns</p>\n",
       "</div>"
      ],
      "text/plain": [
       "             acct_type  approx_payout_date  body_length  channels country  \\\n",
       "0      fraudster_event          1266062400         3852         5      US   \n",
       "26           fraudster          1299607200          870        11      US   \n",
       "51     fraudster_event          1329465600          536         6      US   \n",
       "54           fraudster          1312761600         3081        11           \n",
       "70           fraudster          1322895600            0        13      US   \n",
       "...                ...                 ...          ...       ...     ...   \n",
       "14316  fraudster_event          1360310400         3276         4      GB   \n",
       "14318  fraudster_event          1359784800          448         0      US   \n",
       "14325  fraudster_event          1360049400          996         0      US   \n",
       "14332  fraudster_event          1361689200          667         0      US   \n",
       "14336  fraudster_event          1363316400            0         0      GB   \n",
       "\n",
       "      currency  delivery_method  \\\n",
       "0          USD              0.0   \n",
       "26         USD              0.0   \n",
       "51         USD              0.0   \n",
       "54         GBP              0.0   \n",
       "70         USD              0.0   \n",
       "...        ...              ...   \n",
       "14316      GBP              0.0   \n",
       "14318      USD              0.0   \n",
       "14325      USD              0.0   \n",
       "14332      USD              0.0   \n",
       "14336      GBP              0.0   \n",
       "\n",
       "                                             description   email_domain  \\\n",
       "0      <p><a href=\"http://s432.photobucket.com/albums...      gmail.com   \n",
       "26     <h1 class=\"post\">Welcome</h1>\\r\\n<p> </p>\\r\\n<...    hotmail.com   \n",
       "51     <p><span style=\"font-size: x-large;\">Okay ever...        cox.net   \n",
       "54     <h3><strong><strong><span style=\"font-family: ...  hotmail.co.uk   \n",
       "70                                                            yahoo.com   \n",
       "...                                                  ...            ...   \n",
       "14316  <div id=\"yui_3_7_2_16_1358948795407_159\" style...  hotmail.co.uk   \n",
       "14318  <p>Help us produce this incredible experience....      gmail.com   \n",
       "14325  <p><span style=\"font-size: medium;\"><strong>Yo...      gmail.com   \n",
       "14332  <p>Celebrates this wonderful holiday with the ...      yahoo.com   \n",
       "14336                                                         gmail.com   \n",
       "\n",
       "       event_created  ...                                       ticket_types  \\\n",
       "0         1262739706  ...  [{'event_id': 527017, 'cost': 25.0, 'availabil...   \n",
       "26        1299171416  ...  [{'event_id': 1386643, 'cost': 300.0, 'availab...   \n",
       "51        1317544696  ...  [{'event_id': 1928009, 'cost': 30.0, 'availabi...   \n",
       "54        1311717051  ...  [{'event_id': 1964043, 'cost': 500.0, 'availab...   \n",
       "70        1316795942  ...  [{'event_id': 2228484, 'cost': 30.0, 'availabi...   \n",
       "...              ...  ...                                                ...   \n",
       "14316     1358948648  ...  [{'event_id': 5301408, 'cost': 120.0, 'availab...   \n",
       "14318     1358975278  ...  [{'event_id': 5307036, 'cost': 55.0, 'availabi...   \n",
       "14325     1359415821  ...  [{'event_id': 5350990, 'cost': 649.65, 'availa...   \n",
       "14332     1360297993  ...  [{'event_id': 5456442, 'cost': 45.0, 'availabi...   \n",
       "14336     1360686846  ...  [{'event_id': 5492990, 'cost': 283.0, 'availab...   \n",
       "\n",
       "       user_age  user_created  user_type              venue_address  \\\n",
       "0            36    1259613950          1      717 Washington Avenue   \n",
       "26           42    1295576777          3           400 Fifth Avenue   \n",
       "51           77    1310957994          1             404 euclid ave   \n",
       "54            0    1311717050          1           Hammersmith Road   \n",
       "70            0    1316795486          1         5801 Security Blvd   \n",
       "...         ...           ...        ...                        ...   \n",
       "14316         0    1358948648          1               Sagar Street   \n",
       "14318         0    1358975276          1     94 West Houston Street   \n",
       "14325         0    1359415820          1       3280 Peachtree Rd NE   \n",
       "14332         0    1360297993          1  6100 North Charles Street   \n",
       "14336         0    1360686845          1        192 Pembroke Street   \n",
       "\n",
       "       venue_country  venue_latitude  venue_longitude  \\\n",
       "0                 US       25.777471       -80.133433   \n",
       "26                US       40.750228       -73.983714   \n",
       "51                US       32.702072      -117.085088   \n",
       "54                          0.000000         0.000000   \n",
       "70                US       39.308752       -76.716174   \n",
       "...              ...             ...              ...   \n",
       "14316                      53.523896        -2.276553   \n",
       "14318             US       40.727236       -74.000090   \n",
       "14325             US       33.844403       -84.370374   \n",
       "14332             US       39.373780       -76.629921   \n",
       "14336             GB       51.460131        -2.586503   \n",
       "\n",
       "                                  venue_name       venue_state  \n",
       "0                INK Nightclub - South Beach                FL  \n",
       "26                                 The Setai                NY  \n",
       "51         The Jacobs Center at Market Creek                CA  \n",
       "54                   Olympia Exhibition Hall                    \n",
       "70                                                          MD  \n",
       "...                                      ...               ...  \n",
       "14316  Al Maidah Banquet Hall and Restaurant                    \n",
       "14318                               Madame X                NY  \n",
       "14325                                AQUANOX                GA  \n",
       "14332                          Elkridge Club                MD  \n",
       "14336            massage salon private house  Bristol, City Of  \n",
       "\n",
       "[1293 rows x 44 columns]"
      ]
     },
     "execution_count": 12,
     "metadata": {},
     "output_type": "execute_result"
    }
   ],
   "source": [
    "df[df['acct_type'].str.contains('fraud')]"
   ]
  },
  {
   "cell_type": "code",
   "execution_count": 13,
   "metadata": {},
   "outputs": [],
   "source": [
    "df['Fraud'] = df['acct_type'].str.contains('fraud')"
   ]
  },
  {
   "cell_type": "code",
   "execution_count": 14,
   "metadata": {},
   "outputs": [
    {
     "data": {
      "text/html": [
       "<div>\n",
       "<style scoped>\n",
       "    .dataframe tbody tr th:only-of-type {\n",
       "        vertical-align: middle;\n",
       "    }\n",
       "\n",
       "    .dataframe tbody tr th {\n",
       "        vertical-align: top;\n",
       "    }\n",
       "\n",
       "    .dataframe thead th {\n",
       "        text-align: right;\n",
       "    }\n",
       "</style>\n",
       "<table border=\"1\" class=\"dataframe\">\n",
       "  <thead>\n",
       "    <tr style=\"text-align: right;\">\n",
       "      <th></th>\n",
       "      <th>acct_type</th>\n",
       "      <th>approx_payout_date</th>\n",
       "      <th>body_length</th>\n",
       "      <th>channels</th>\n",
       "      <th>country</th>\n",
       "      <th>currency</th>\n",
       "      <th>delivery_method</th>\n",
       "      <th>description</th>\n",
       "      <th>email_domain</th>\n",
       "      <th>event_created</th>\n",
       "      <th>...</th>\n",
       "      <th>user_age</th>\n",
       "      <th>user_created</th>\n",
       "      <th>user_type</th>\n",
       "      <th>venue_address</th>\n",
       "      <th>venue_country</th>\n",
       "      <th>venue_latitude</th>\n",
       "      <th>venue_longitude</th>\n",
       "      <th>venue_name</th>\n",
       "      <th>venue_state</th>\n",
       "      <th>Fraud</th>\n",
       "    </tr>\n",
       "  </thead>\n",
       "  <tbody>\n",
       "    <tr>\n",
       "      <td>0</td>\n",
       "      <td>fraudster_event</td>\n",
       "      <td>1266062400</td>\n",
       "      <td>3852</td>\n",
       "      <td>5</td>\n",
       "      <td>US</td>\n",
       "      <td>USD</td>\n",
       "      <td>0.0</td>\n",
       "      <td>&lt;p&gt;&lt;a href=\"http://s432.photobucket.com/albums...</td>\n",
       "      <td>gmail.com</td>\n",
       "      <td>1262739706</td>\n",
       "      <td>...</td>\n",
       "      <td>36</td>\n",
       "      <td>1259613950</td>\n",
       "      <td>1</td>\n",
       "      <td>717 Washington Avenue</td>\n",
       "      <td>US</td>\n",
       "      <td>25.777471</td>\n",
       "      <td>-80.133433</td>\n",
       "      <td>INK Nightclub - South Beach</td>\n",
       "      <td>FL</td>\n",
       "      <td>True</td>\n",
       "    </tr>\n",
       "    <tr>\n",
       "      <td>1</td>\n",
       "      <td>premium</td>\n",
       "      <td>1296720000</td>\n",
       "      <td>3499</td>\n",
       "      <td>0</td>\n",
       "      <td>US</td>\n",
       "      <td>USD</td>\n",
       "      <td>1.0</td>\n",
       "      <td>&lt;p&gt;Join us for a quick, one-night, community-b...</td>\n",
       "      <td>ruf.org</td>\n",
       "      <td>1293832670</td>\n",
       "      <td>...</td>\n",
       "      <td>149</td>\n",
       "      <td>1280942776</td>\n",
       "      <td>3</td>\n",
       "      <td></td>\n",
       "      <td>US</td>\n",
       "      <td>32.776566</td>\n",
       "      <td>-79.930922</td>\n",
       "      <td>The Charleston, SC area</td>\n",
       "      <td>SC</td>\n",
       "      <td>False</td>\n",
       "    </tr>\n",
       "  </tbody>\n",
       "</table>\n",
       "<p>2 rows × 45 columns</p>\n",
       "</div>"
      ],
      "text/plain": [
       "         acct_type  approx_payout_date  body_length  channels country  \\\n",
       "0  fraudster_event          1266062400         3852         5      US   \n",
       "1          premium          1296720000         3499         0      US   \n",
       "\n",
       "  currency  delivery_method  \\\n",
       "0      USD              0.0   \n",
       "1      USD              1.0   \n",
       "\n",
       "                                         description email_domain  \\\n",
       "0  <p><a href=\"http://s432.photobucket.com/albums...    gmail.com   \n",
       "1  <p>Join us for a quick, one-night, community-b...      ruf.org   \n",
       "\n",
       "   event_created  ...  user_age  user_created  user_type  \\\n",
       "0     1262739706  ...        36    1259613950          1   \n",
       "1     1293832670  ...       149    1280942776          3   \n",
       "\n",
       "           venue_address  venue_country  venue_latitude  venue_longitude  \\\n",
       "0  717 Washington Avenue             US       25.777471       -80.133433   \n",
       "1                                    US       32.776566       -79.930922   \n",
       "\n",
       "                    venue_name venue_state  Fraud  \n",
       "0  INK Nightclub - South Beach          FL   True  \n",
       "1      The Charleston, SC area          SC  False  \n",
       "\n",
       "[2 rows x 45 columns]"
      ]
     },
     "execution_count": 14,
     "metadata": {},
     "output_type": "execute_result"
    }
   ],
   "source": [
    "df.head(2)"
   ]
  },
  {
   "cell_type": "code",
   "execution_count": 15,
   "metadata": {},
   "outputs": [
    {
     "data": {
      "text/plain": [
       "1293"
      ]
     },
     "execution_count": 15,
     "metadata": {},
     "output_type": "execute_result"
    }
   ],
   "source": [
    "# Number of fraud cases:\n",
    "df['Fraud'].sum()"
   ]
  },
  {
   "cell_type": "code",
   "execution_count": 16,
   "metadata": {},
   "outputs": [
    {
     "data": {
      "text/plain": [
       "13044"
      ]
     },
     "execution_count": 16,
     "metadata": {},
     "output_type": "execute_result"
    }
   ],
   "source": [
    "# Number of legitimate cases:\n",
    "df['Fraud'].count() - df['Fraud'].sum()"
   ]
  },
  {
   "cell_type": "code",
   "execution_count": 24,
   "metadata": {},
   "outputs": [
    {
     "data": {
      "text/plain": [
       "14337"
      ]
     },
     "execution_count": 24,
     "metadata": {},
     "output_type": "execute_result"
    }
   ],
   "source": [
    "df['Fraud'].count()"
   ]
  },
  {
   "cell_type": "code",
   "execution_count": 17,
   "metadata": {},
   "outputs": [
    {
     "data": {
      "text/plain": [
       "1508.8863109048723"
      ]
     },
     "execution_count": 17,
     "metadata": {},
     "output_type": "execute_result"
    }
   ],
   "source": [
    "df[df['Fraud'] == True].body_length.mean()"
   ]
  },
  {
   "cell_type": "code",
   "execution_count": 18,
   "metadata": {},
   "outputs": [
    {
     "data": {
      "text/plain": [
       "3886.9945568843914"
      ]
     },
     "execution_count": 18,
     "metadata": {},
     "output_type": "execute_result"
    }
   ],
   "source": [
    "df[df['Fraud'] == False].body_length.mean()"
   ]
  },
  {
   "cell_type": "code",
   "execution_count": 19,
   "metadata": {},
   "outputs": [],
   "source": [
    "df[df['Fraud'] == True].channels.hist();"
   ]
  },
  {
   "cell_type": "code",
   "execution_count": 20,
   "metadata": {},
   "outputs": [
    {
     "data": {
      "image/png": "[encoded data removed]",
      "text/plain": [
       "<Figure size 432x288 with 1 Axes>"
      ]
     },
     "metadata": {
      "needs_background": "light"
     },
     "output_type": "display_data"
    }
   ],
   "source": [
    "df[df['Fraud'] == False].channels.hist();"
   ]
  },
  {
   "cell_type": "code",
   "execution_count": 21,
   "metadata": {},
   "outputs": [
    {
     "data": {
      "text/plain": [
       "0.0    8520\n",
       "1.0    5554\n",
       "3.0     247\n",
       "Name: delivery_method, dtype: int64"
      ]
     },
     "execution_count": 21,
     "metadata": {},
     "output_type": "execute_result"
    }
   ],
   "source": [
    "df['delivery_method'].value_counts()"
   ]
  },
  {
   "cell_type": "code",
   "execution_count": 22,
   "metadata": {},
   "outputs": [
    {
     "data": {
      "image/png": "[encoded data removed]",
      "text/plain": [
       "<Figure size 432x288 with 1 Axes>"
      ]
     },
     "metadata": {
      "needs_background": "light"
     },
     "output_type": "display_data"
    }
   ],
   "source": [
    "df[df['Fraud'] == False].delivery_method.hist();"
   ]
  },
  {
   "cell_type": "code",
   "execution_count": 23,
   "metadata": {},
   "outputs": [
    {
     "data": {
      "image/png": "[encoded data removed]",
      "text/plain": [
       "<Figure size 432x288 with 1 Axes>"
      ]
     },
     "metadata": {
      "needs_background": "light"
     },
     "output_type": "display_data"
    }
   ],
   "source": [
    "df[df['Fraud'] == True].delivery_method.hist();"
   ]
  },
  {
   "cell_type": "code",
   "execution_count": null,
   "metadata": {},
   "outputs": [],
   "source": []
  }
 ],
 "metadata": {
  "kernelspec": {
   "display_name": "Python 3",
   "language": "python",
   "name": "python3"
  },
  "language_info": {
   "codemirror_mode": {
    "name": "ipython",
    "version": 3
   },
   "file_extension": ".py",
   "mimetype": "text/x-python",
   "name": "python",
   "nbconvert_exporter": "python",
   "pygments_lexer": "ipython3",
   "version": "3.7.3"
  }
 },
 "nbformat": 4,
 "nbformat_minor": 2
}
