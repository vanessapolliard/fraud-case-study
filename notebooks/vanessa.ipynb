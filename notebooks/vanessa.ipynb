{
 "cells": [
  {
   "cell_type": "code",
   "execution_count": 1,
   "metadata": {},
   "outputs": [],
   "source": [
    "import json\n",
    "from json.decoder import JSONDecodeError"
   ]
  },
  {
   "cell_type": "code",
   "execution_count": 2,
   "metadata": {},
   "outputs": [
    {
     "name": "stdout",
     "output_type": "stream",
     "text": [
      "tim_fraud_notebook.ipynb  vanessa.ipynb\r\n"
     ]
    }
   ],
   "source": [
    "%ls"
   ]
  },
  {
   "cell_type": "code",
   "execution_count": 9,
   "metadata": {},
   "outputs": [
    {
     "name": "stdout",
     "output_type": "stream",
     "text": [
      "data.zip\r\n"
     ]
    }
   ],
   "source": [
    "ls"
   ]
  },
  {
   "cell_type": "code",
   "execution_count": 6,
   "metadata": {},
   "outputs": [
    {
     "ename": "FileNotFoundError",
     "evalue": "[Errno 2] No such file or directory: '../data/raw/data.json'",
     "output_type": "error",
     "traceback": [
      "\u001b[0;31m---------------------------------------------------------------------------\u001b[0m",
      "\u001b[0;31mFileNotFoundError\u001b[0m                         Traceback (most recent call last)",
      "\u001b[0;32m<ipython-input-6-f2d8af8ac43e>\u001b[0m in \u001b[0;36m<module>\u001b[0;34m\u001b[0m\n\u001b[0;32m----> 1\u001b[0;31m \u001b[0;32mwith\u001b[0m \u001b[0mopen\u001b[0m\u001b[0;34m(\u001b[0m\u001b[0;34m'../data/raw/data.json'\u001b[0m\u001b[0;34m,\u001b[0m \u001b[0;34m'r'\u001b[0m\u001b[0;34m)\u001b[0m \u001b[0;32mas\u001b[0m \u001b[0mhandle\u001b[0m\u001b[0;34m:\u001b[0m\u001b[0;34m\u001b[0m\u001b[0;34m\u001b[0m\u001b[0m\n\u001b[0m\u001b[1;32m      2\u001b[0m     \u001b[0mdata\u001b[0m \u001b[0;34m=\u001b[0m \u001b[0mjson\u001b[0m\u001b[0;34m.\u001b[0m\u001b[0mload\u001b[0m\u001b[0;34m(\u001b[0m\u001b[0mhandle\u001b[0m\u001b[0;34m)\u001b[0m\u001b[0;34m\u001b[0m\u001b[0;34m\u001b[0m\u001b[0m\n",
      "\u001b[0;31mFileNotFoundError\u001b[0m: [Errno 2] No such file or directory: '../data/raw/data.json'"
     ]
    }
   ],
   "source": [
    "with open('../data/raw/data.json', 'r') as handle:\n",
    "    data = json.load(handle)"
   ]
  },
  {
   "cell_type": "code",
   "execution_count": null,
   "metadata": {},
   "outputs": [],
   "source": [
    "# print(json.dumps(VARIABLE, sort_keys=True, indent=4))\n",
    "print(json.dumps(data[26], sort_keys=True, indent=4))"
   ]
  },
  {
   "cell_type": "code",
   "execution_count": null,
   "metadata": {},
   "outputs": [],
   "source": [
    "import pandas as pd\n",
    "df = pd.read_json(r'data/data.json')"
   ]
  },
  {
   "cell_type": "code",
   "execution_count": null,
   "metadata": {},
   "outputs": [],
   "source": [
    "df.head(1)"
   ]
  },
  {
   "cell_type": "code",
   "execution_count": null,
   "metadata": {
    "scrolled": true
   },
   "outputs": [],
   "source": [
    "df[df['acct_type'].str.contains('fraud')]"
   ]
  },
  {
   "cell_type": "code",
   "execution_count": null,
   "metadata": {},
   "outputs": [],
   "source": [
    "df['Fraud'] = df['acct_type'].str.contains('fraud')"
   ]
  },
  {
   "cell_type": "code",
   "execution_count": null,
   "metadata": {},
   "outputs": [],
   "source": [
    "df.head(2)"
   ]
  },
  {
   "cell_type": "code",
   "execution_count": null,
   "metadata": {},
   "outputs": [],
   "source": [
    "# Number of fraud cases:\n",
    "df['Fraud'].sum()"
   ]
  },
  {
   "cell_type": "code",
   "execution_count": null,
   "metadata": {},
   "outputs": [],
   "source": [
    "# Number of legitimate cases:\n",
    "df['Fraud'].count() - df['Fraud'].sum()"
   ]
  },
  {
   "cell_type": "code",
   "execution_count": null,
   "metadata": {},
   "outputs": [],
   "source": [
    "df[df['Fraud'] == True].body_length.mean()"
   ]
  },
  {
   "cell_type": "code",
   "execution_count": null,
   "metadata": {},
   "outputs": [],
   "source": [
    "df[df['Fraud'] == False].body_length.mean()"
   ]
  },
  {
   "cell_type": "code",
   "execution_count": null,
   "metadata": {},
   "outputs": [],
   "source": [
    "df[df['Fraud'] == True].channels.hist();"
   ]
  },
  {
   "cell_type": "code",
   "execution_count": null,
   "metadata": {},
   "outputs": [],
   "source": [
    "df[df['Fraud'] == False].channels.hist();"
   ]
  },
  {
   "cell_type": "code",
   "execution_count": null,
   "metadata": {
    "scrolled": true
   },
   "outputs": [],
   "source": [
    "df['delivery_method'].value_counts()"
   ]
  },
  {
   "cell_type": "markdown",
   "metadata": {},
   "source": [
    "## Testing API Calls"
   ]
  },
  {
   "cell_type": "code",
   "execution_count": 12,
   "metadata": {},
   "outputs": [],
   "source": [
    "import requests"
   ]
  },
  {
   "cell_type": "code",
   "execution_count": 5,
   "metadata": {},
   "outputs": [],
   "source": [
    "api_url = 'http://galvanize-case-study-on-fraud.herokuapp.com/data_point'"
   ]
  },
  {
   "cell_type": "code",
   "execution_count": 10,
   "metadata": {},
   "outputs": [],
   "source": [
    "def single_api_query(link):\n",
    "    response = requests.get(link)\n",
    "    if response.status_code != 200:\n",
    "        print('WARNING', response.status_code)\n",
    "    else:\n",
    "        api_response = response.json()\n",
    "        return api_response"
   ]
  },
  {
   "cell_type": "code",
   "execution_count": 24,
   "metadata": {},
   "outputs": [],
   "source": [
    "single_response = single_api_query(api_url)"
   ]
  },
  {
   "cell_type": "code",
   "execution_count": 25,
   "metadata": {},
   "outputs": [
    {
     "data": {
      "text/plain": [
       "{'approx_payout_date': 1379461500,\n",
       " 'body_length': 3206,\n",
       " 'channels': 11,\n",
       " 'country': 'US',\n",
       " 'currency': 'USD',\n",
       " 'delivery_method': 1.0,\n",
       " 'description': '<p><strong>Date:</strong> September 12, 2013<br /><strong>Time of Seminar:</strong> 8:30 am - 4:15 pm<br /><strong>Time of Crab Feast:</strong> 4:15 pm to finish<br /><strong>Cost:</strong> <span style=\"color: #0000ff;\">$85</span> if registered by August 16; <span style=\"color: #0000ff;\">$110</span> if registered by September 9; <span style=\"color: #0000ff;\">Free</span> to customers<br /><strong>Location:</strong> MET Labs Baltimore - overnight participants may stay at&nbsp;<a href=\"http://homewoodsuites3.hilton.com/en/hotels/maryland/homewood-suites-by-hilton-baltimore-bwi-airport-BALBWHW/index.html\" target=\"_blank\">Homewood Suites - BWI Airport</a>.&nbsp; Ask for the MET Labs rate.&nbsp;<br /><strong>Eligibility:</strong> MET competitors will not be granted admission</p>\\r\\n<p>MET&rsquo;s Global Product Compliance Seminar is an annual event that features short presentations by subject matter experts on timely compliance topics.&nbsp; We are excited this year to feature presentations by OSHA&rsquo;s David Johnson, who will discuss the&nbsp;U.S. NRTL product safety&nbsp;program, and TCB Council&rsquo;s Chris Harvey, who will discuss FCC certification challenges and opportunities.&nbsp;</p>\\r\\n<p>Participation is capped at 150 attendees.</p>\\r\\n<p>Your admission will include:</p>\\r\\n<ul>\\r\\n<li>Lunch</li>\\r\\n<li>Snack breaks</li>\\r\\n<li>USB flash drive with presentations pre-loaded</li>\\r\\n<li>Crab feast: Crabs, hamburgers, polish sausages, tomatoes &amp; mozzarella, beer and other beverages</li>\\r\\n</ul>\\r\\n<p><strong>Agenda</strong></p>\\r\\n<p>8:30 &ndash; 9:00<strong> Registration<br /></strong>9:00 &ndash; 9:15<strong> Introduction </strong>&ndash; Jerry Frey, MET Labs Eastern Regional Sales Manager<br />9:15 &ndash; 9:55<strong> Product Safety Principles </strong>&ndash; Keith Greenway, MET Labs Senior Project Engineer<strong><br /></strong>10:00 &ndash; 10:40<strong> FCC TCB Program Update </strong>&ndash; Chris Harvey, TCB Council Executive Director<strong><br /></strong>10:45 &ndash; 11:25<strong> Design for EMC Compliance </strong>&ndash; Manasi Bhandiwad, MET Labs EMC Supervisor<strong><br /></strong>11:30 &ndash; 12:00<strong> U.S. OSHA NRTL Product Safety Certification Update </strong>&ndash; David Johnson, OSHA Director of Office of Technical Programs &amp; Coordination Activities<strong> <br /></strong>12:00 &ndash; 12:45<strong> Lunch<br /></strong>12:45 &ndash; 1:15<strong> Lab Tour<br /></strong>1:15 &ndash; 1:55<strong> Customs Union TR for Russia, Belarus and Kazakhstan </strong>&ndash; Alexey Luchenko, Elmas<strong><br /></strong>2:00 &ndash; 2:40<strong> HALT Testing Effectively </strong>&ndash; Tamlyn Franklin, MET Labs Test Engineering Consultant<br />2:00 &ndash; 2:40<strong> Electrical Medical Equipment Approvals for EU </strong>&ndash; Cecilia Cantaluppi, IMQ <br />2:45 &ndash; 3:25<strong> Simulate Before You Test </strong>&ndash; Craig Hillman, DfR Solutions<strong><br /></strong>2:45 &ndash; 3:25<strong> KC Marking for Korea </strong>&ndash; Korea Testing Laboratory<strong><br /></strong>3:30 &ndash; 4:10<strong> Brazil Inmetro &amp; Anatel Approvals </strong>&ndash; Walmir Macedo, NCC<strong><br /></strong>4:15<strong> Crab Feast</strong></p>',\n",
       " 'email_domain': 'metlabs.com',\n",
       " 'event_created': 1369835457,\n",
       " 'event_end': 1379029500,\n",
       " 'event_published': 1369837509.0,\n",
       " 'event_start': 1379001600,\n",
       " 'fb_published': 0,\n",
       " 'gts': 340.0,\n",
       " 'has_analytics': 0,\n",
       " 'has_header': 0.0,\n",
       " 'has_logo': 1,\n",
       " 'listed': 'y',\n",
       " 'name': '2013 Annual Global Product Compliance Seminar & Crab Feast',\n",
       " 'name_length': 58,\n",
       " 'num_order': 4,\n",
       " 'num_payouts': 4,\n",
       " 'object_id': 6865259,\n",
       " 'org_desc': '<p>MET Laboratories is an internationally-recognized resource for regulatory certification of electrical products for the worldwide marketplace. Testing covers a wide range of regulatory, commercial and military standards.</p>\\r\\n<p>MET Laboratories is headquartered in Baltimore, Maryland, with office locations in Union City and Santa Clara, California; Austin, Texas; Cary, North Carolina; and wholly-owned international locations in Shenzhen, China; Taipei, Taiwan; Seoul, Korea; and Milan, Italy.</p>',\n",
       " 'org_facebook': 7.0,\n",
       " 'org_name': 'MET Labs',\n",
       " 'org_twitter': 7.0,\n",
       " 'payee_name': 'MET Laboratories',\n",
       " 'payout_type': 'CHECK',\n",
       " 'previous_payouts': [{'address': '914 W. Patapsco Ave.',\n",
       "   'amount': 4144.14,\n",
       "   'country': 'US',\n",
       "   'created': '2012-07-22 03:13:28',\n",
       "   'event': 2959681,\n",
       "   'name': 'MET Laboratories',\n",
       "   'state': 'MD',\n",
       "   'uid': 8662887,\n",
       "   'zip_code': '21230'},\n",
       "  {'address': '914 W. Patapsco Ave.',\n",
       "   'amount': 649.83,\n",
       "   'country': 'US',\n",
       "   'created': '2012-09-18 03:15:14',\n",
       "   'event': 3198847,\n",
       "   'name': 'MET Laboratories',\n",
       "   'state': 'MD',\n",
       "   'uid': 8662887,\n",
       "   'zip_code': '21230'},\n",
       "  {'address': '914 W. Patapsco Ave.',\n",
       "   'amount': 8873.0,\n",
       "   'country': 'US',\n",
       "   'created': '2013-03-27 03:18:43',\n",
       "   'event': 4860721,\n",
       "   'name': 'MET Laboratories',\n",
       "   'state': 'MD',\n",
       "   'uid': 8662887,\n",
       "   'zip_code': '21230'},\n",
       "  {'address': '914 W. Patapsco Ave.',\n",
       "   'amount': 4660.92,\n",
       "   'country': 'US',\n",
       "   'created': '2013-07-21 03:13:06',\n",
       "   'event': 6207473,\n",
       "   'name': 'MET Laboratories',\n",
       "   'state': 'MD',\n",
       "   'uid': 8662887,\n",
       "   'zip_code': '21230'},\n",
       "  {'address': '914 W. Patapsco Ave.',\n",
       "   'amount': 317.32,\n",
       "   'country': 'US',\n",
       "   'created': '2013-09-17 03:11:59',\n",
       "   'event': 6865259,\n",
       "   'name': 'MET Laboratories',\n",
       "   'state': 'MD',\n",
       "   'uid': 8662887,\n",
       "   'zip_code': '21230'}],\n",
       " 'sale_duration': 106.0,\n",
       " 'sale_duration2': 106,\n",
       " 'show_map': 1,\n",
       " 'ticket_types': [{'availability': 1,\n",
       "   'cost': 79.33,\n",
       "   'event_id': 6865259,\n",
       "   'quantity_sold': 4,\n",
       "   'quantity_total': 1},\n",
       "  {'availability': 1,\n",
       "   'cost': 102.96,\n",
       "   'event_id': 6865259,\n",
       "   'quantity_sold': 0,\n",
       "   'quantity_total': 12},\n",
       "  {'availability': 1,\n",
       "   'cost': 0.0,\n",
       "   'event_id': 6865259,\n",
       "   'quantity_sold': 88,\n",
       "   'quantity_total': 95}],\n",
       " 'user_age': 922,\n",
       " 'user_created': 1290198646,\n",
       " 'user_type': 4,\n",
       " 'venue_address': '914 West Patapsco Avenue',\n",
       " 'venue_country': 'US',\n",
       " 'venue_latitude': 39.2461512,\n",
       " 'venue_longitude': -76.6333759,\n",
       " 'venue_name': 'MET Labs Baltimore',\n",
       " 'venue_state': 'MD'}"
      ]
     },
     "execution_count": 25,
     "metadata": {},
     "output_type": "execute_result"
    }
   ],
   "source": [
    "single_response"
   ]
  },
  {
   "cell_type": "markdown",
   "metadata": {},
   "source": [
    "steps - \n",
    "push the above through data cleaning and modeling pipeline\n",
    "post to postgres DB\n",
    "refresh app with updated predictions"
   ]
  },
  {
   "cell_type": "code",
   "execution_count": null,
   "metadata": {},
   "outputs": [],
   "source": []
  }
 ],
 "metadata": {
  "kernelspec": {
   "display_name": "Python 3",
   "language": "python",
   "name": "python3"
  },
  "language_info": {
   "codemirror_mode": {
    "name": "ipython",
    "version": 3
   },
   "file_extension": ".py",
   "mimetype": "text/x-python",
   "name": "python",
   "nbconvert_exporter": "python",
   "pygments_lexer": "ipython3",
   "version": "3.7.3"
  }
 },
 "nbformat": 4,
 "nbformat_minor": 2
}
