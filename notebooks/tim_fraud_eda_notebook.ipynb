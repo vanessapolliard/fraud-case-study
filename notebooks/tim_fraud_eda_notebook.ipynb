{
 "cells": [
  {
   "cell_type": "code",
   "execution_count": 1,
   "metadata": {},
   "outputs": [],
   "source": [
    "import json\n",
    "from json.decoder import JSONDecodeError"
   ]
  },
  {
   "cell_type": "code",
   "execution_count": 2,
   "metadata": {},
   "outputs": [
    {
     "data": {
      "text/plain": [
       "'/Users/timothymiller/Galvanize/repos/fraud-detection-case-study/notebooks'"
      ]
     },
     "execution_count": 2,
     "metadata": {},
     "output_type": "execute_result"
    }
   ],
   "source": [
    "%pwd"
   ]
  },
  {
   "cell_type": "markdown",
   "metadata": {},
   "source": [
    "### Load Data"
   ]
  },
  {
   "cell_type": "code",
   "execution_count": 3,
   "metadata": {},
   "outputs": [],
   "source": [
    "with open('../data/raw/data.json', 'r') as handle:\n",
    "    data = json.load(handle)"
   ]
  },
  {
   "cell_type": "code",
   "execution_count": 77,
   "metadata": {
    "scrolled": true
   },
   "outputs": [
    {
     "name": "stdout",
     "output_type": "stream",
     "text": [
      "{\n",
      "    \"acct_type\": \"fraudster\",\n",
      "    \"approx_payout_date\": 1331953200,\n",
      "    \"body_length\": 1045,\n",
      "    \"channels\": 0,\n",
      "    \"country\": \"GB\",\n",
      "    \"currency\": \"GBP\",\n",
      "    \"delivery_method\": 0.0,\n",
      "    \"description\": \"<p><span style=\\\"font-size: medium; color: #ff0000;\\\"><strong>ADULT ONLY SITE</strong></span>. OUR SITE IS CLEAN AND WELL MAINTAINED WITH A NICELY MANICURED GRASS AREA AND 0.75 ACRE OF HARD STANDING WITH ELECTRIC AND WATER AT ALL POINTS. THE VIEWS OF THE SURROUNDING COUNTRYSIDE ARE UNOBSTRUCTED. OUR SITE IS EASILY ACCESSIBLE EVEN FOR THE LARGEST OF UNITS, WITH CODED ELECTRICALLY OPERATED ENTRANCE GATES.</p>\\r\\n<p>\\u00a0</p>\\r\\n<p>THE PICTURESQUE VILLAGE OF THRUSSINGTON IS TEN MINUTES WALK FROM OUR SITE ON A QUITE COUNTRY ROAD, IDEAL FOR EXERCING YOUR DOG. THERE ARE TWO PUBS THAT SERVE BOTH TRADITIONAL BEERS AND EXCELLENT FOOD. WE HAVE A NEWLY REFURBISHED GENERAL STORE.</p>\\r\\n<p>\\u00a0</p>\\r\\n<p>WE ARE SITUATED JUST NINE MILES FROM THE MARKET TOWN OF MELTON MOWBRAY, WHERE YOU WILL FIND PLENTY TO SEE AND DO IN THIS RURAL CAPITAL OF FOOD. BUS SERVICE TO LEICESTER AND MELTON MOWBRAY RUN FROM THRUSSINGTON ON THE HOUR FROM 0700hrs TO 2000hrs. (NO SUNDAY SERVICE.</p>\\r\\n<p>\\u00a0</p>\\r\\n<p>\\u00a0</p>\\r\\n<p>Open All Year</p>\\r\\n<p>\\u00a0PLS NOTE:\\u00a0metered electrcity</p>\\r\\n<p>\\u00a0</p>\",\n",
      "    \"email_domain\": \"ymail.com\",\n",
      "    \"event_created\": 1330545234,\n",
      "    \"event_end\": 1331521200,\n",
      "    \"event_published\": 1330546580.0,\n",
      "    \"event_start\": 1331343000,\n",
      "    \"fb_published\": 0,\n",
      "    \"gts\": 37592.1,\n",
      "    \"has_analytics\": 0,\n",
      "    \"has_header\": 0.0,\n",
      "    \"has_logo\": 1,\n",
      "    \"listed\": \"n\",\n",
      "    \"name\": \"HILL TOP SAM'S CAMPING AND CARAVANNING CLUB\",\n",
      "    \"name_length\": 43,\n",
      "    \"num_order\": 15,\n",
      "    \"num_payouts\": 0,\n",
      "    \"object_id\": 3048157,\n",
      "    \"org_desc\": \"<p class=\\\"noindent\\\" style=\\\"padding-top: 0px; padding-right: 30px; padding-bottom: 8px; padding-left: 0px; font-size: 12px; line-height: 14pt; color: #61514d; border-style: initial; border-color: initial; border-image: initial; outline-width: 0px; outline-style: initial; outline-color: initial; vertical-align: baseline; background-color: #d6e5ec; border-width: 0px; margin: 0px;\\\"><strong style=\\\"border-style: initial; border-color: initial; border-image: initial; outline-width: 0px; outline-style: initial; outline-color: initial; vertical-align: baseline; border-width: 0px; padding: 0px; margin: 0px;\\\"><span class=\\\"brown-large-text\\\" style=\\\"border-style: initial; border-color: initial; border-image: initial; outline-width: 0px; outline-style: initial; outline-color: initial; vertical-align: baseline; font-size: 15px !important; border-width: 0px; padding: 0px; margin: 0px;\\\">Whether you're a seasoned camper, caravanner or motor caravanner, or new to taking your accommodation with you, joining the Club will help you to get more from your caravanning and camping holidays.</span></strong></p>\\r\\n<p class=\\\"noindent\\\" style=\\\"padding-top: 0px; padding-right: 30px; padding-bottom: 8px; padding-left: 0px; font-size: 12px; line-height: 14pt; color: #61514d; border-style: initial; border-color: initial; border-image: initial; outline-width: 0px; outline-style: initial; outline-color: initial; vertical-align: baseline; background-color: #d6e5ec; border-width: 0px; margin: 0px;\\\">As Leicestershire's oldest and largest Club for all forms of camping, and with over 250 active members, the facilities and services are developed by people who share a love of camping and caravanning.</p>\",\n",
      "    \"org_facebook\": 0.0,\n",
      "    \"org_name\": \"THE SAM'S CAMPING AND CARAVANNING CLUB\",\n",
      "    \"org_twitter\": 0.0,\n",
      "    \"payee_name\": \"\",\n",
      "    \"payout_type\": \"ACH\",\n",
      "    \"previous_payouts\": [],\n",
      "    \"sale_duration\": 9.0,\n",
      "    \"sale_duration2\": 9,\n",
      "    \"show_map\": 1,\n",
      "    \"ticket_types\": [\n",
      "        {\n",
      "            \"availability\": 1,\n",
      "            \"cost\": 150.0,\n",
      "            \"event_id\": 3048157,\n",
      "            \"quantity_sold\": 5,\n",
      "            \"quantity_total\": 80\n",
      "        },\n",
      "        {\n",
      "            \"availability\": 1,\n",
      "            \"cost\": 450.0,\n",
      "            \"event_id\": 3048157,\n",
      "            \"quantity_sold\": 4,\n",
      "            \"quantity_total\": 40\n",
      "        }\n",
      "    ],\n",
      "    \"user_age\": 0,\n",
      "    \"user_created\": 1330544678,\n",
      "    \"user_type\": 1,\n",
      "    \"venue_address\": \"67 Old Gate Road \",\n",
      "    \"venue_country\": \"GB\",\n",
      "    \"venue_latitude\": 52.7401677,\n",
      "    \"venue_longitude\": -1.0439889,\n",
      "    \"venue_name\": \"Hill Top Caravan Park\",\n",
      "    \"venue_state\": \"\"\n",
      "}\n"
     ]
    }
   ],
   "source": [
    "# print(json.dumps(VARIABLE, sort_keys=True, indent=4))\n",
    "print(json.dumps(data[128], sort_keys=True, indent=4))"
   ]
  },
  {
   "cell_type": "code",
   "execution_count": 5,
   "metadata": {},
   "outputs": [],
   "source": [
    "import pandas as pd\n",
    "df = pd.read_json(r'../data/raw/data.json')"
   ]
  },
  {
   "cell_type": "code",
   "execution_count": 6,
   "metadata": {},
   "outputs": [
    {
     "name": "stdout",
     "output_type": "stream",
     "text": [
      "14337\n",
      "14337\n"
     ]
    }
   ],
   "source": [
    "# Are all object_ids unique?\n",
    "print(len(df))\n",
    "print(len(df['object_id'].unique()))"
   ]
  },
  {
   "cell_type": "code",
   "execution_count": 7,
   "metadata": {},
   "outputs": [],
   "source": [
    "# Make target column\n",
    "df['Fraud'] = df['acct_type'].str.contains('fraud')"
   ]
  },
  {
   "cell_type": "code",
   "execution_count": 8,
   "metadata": {},
   "outputs": [
    {
     "name": "stdout",
     "output_type": "stream",
     "text": [
      "Fraud #: 1293\n",
      "Not Fraud #: 13044\n",
      "Total #: 14337\n"
     ]
    }
   ],
   "source": [
    "# Number of fraud cases:\n",
    "print(f\"Fraud #: {df['Fraud'].sum()}\")\n",
    "# Number of legitimate cases:\n",
    "print(f\"Not Fraud #: {df['Fraud'].count() - df['Fraud'].sum()}\")\n",
    "# Total cases:\n",
    "print(f\"Total #: {df['Fraud'].count()}\")"
   ]
  },
  {
   "cell_type": "code",
   "execution_count": 52,
   "metadata": {
    "scrolled": true
   },
   "outputs": [
    {
     "name": "stdout",
     "output_type": "stream",
     "text": [
      "[0, 26, 51, 54, 70, 128, 130, 131, 140, 144, 149, 161, 177, 181, 183, 187, 202, 206, 212, 219, 248, 250, 259, 262, 263, 272, 275, 289, 296, 307, 318, 323, 330, 364, 367, 386, 440, 448, 451, 457, 463, 487, 494, 499, 500, 501, 503, 545, 552, 556, 568, 569, 572, 598, 599, 602, 603, 604, 608, 610, 621, 623, 627, 634, 638, 650, 651, 657, 687, 697, 736, 737, 744, 749, 755, 770, 771, 772, 782, 801, 807, 808, 824, 825, 852, 860, 873, 877, 918, 930, 958, 964, 971, 990, 991, 995, 996, 997, 999, 1008, 1011, 1026, 1034, 1040, 1041, 1053, 1082, 1096, 1102, 1106, 1110, 1121, 1122, 1147, 1151, 1161, 1166, 1178, 1185, 1204, 1206, 1223, 1236, 1240, 1241, 1242, 1249, 1253, 1255, 1262, 1265, 1266, 1274, 1292, 1293, 1299, 1316, 1366, 1401, 1424, 1425, 1429, 1436, 1443, 1450, 1463, 1474, 1480, 1486, 1489, 1498, 1499, 1500, 1508, 1509, 1529, 1531, 1538, 1587, 1600, 1611, 1612, 1622, 1624, 1626, 1633, 1635, 1641, 1645, 1655, 1664, 1698, 1702, 1706, 1708, 1711, 1715, 1719, 1725, 1742, 1760, 1770, 1777, 1797, 1843, 1874, 1886, 1909, 1913, 1932, 1945, 1949, 1977, 1978, 1980, 1985, 1990, 1991, 1994, 1996, 1999, 2026, 2028, 2046, 2058, 2065, 2066, 2074, 2075, 2077, 2129, 2136, 2138, 2140, 2168, 2174, 2198, 2202, 2204, 2207, 2210, 2211, 2233, 2238, 2255, 2257, 2261, 2264, 2266, 2272, 2285, 2294, 2355, 2387, 2434, 2453, 2461, 2492, 2493, 2495, 2496, 2497, 2499, 2500, 2519, 2527, 2534, 2536, 2565, 2574, 2583, 2604, 2607, 2610, 2611, 2643, 2653, 2659, 2669, 2670, 2674, 2675, 2687, 2694, 2695, 2716, 2738, 2764, 2771, 2777, 2780, 2805, 2816, 2822, 2852, 2865, 2885, 2921, 2955, 2963, 2992, 2994, 2995, 2998, 2999, 3000, 3001, 3021, 3045, 3046, 3070, 3105, 3109, 3112, 3113, 3133, 3148, 3149, 3158, 3173, 3177, 3197, 3198, 3218, 3236, 3237, 3250, 3259, 3266, 3268, 3269, 3290, 3309, 3326, 3330, 3337, 3353, 3354, 3362, 3391, 3438, 3444, 3447, 3450, 3461, 3462, 3471, 3491, 3493, 3494, 3496, 3499, 3503, 3514, 3521, 3533, 3548, 3549, 3565, 3594, 3595, 3598, 3608, 3614, 3615, 3621, 3636, 3637, 3640, 3649, 3652, 3656, 3685, 3694, 3712, 3715, 3756, 3759, 3760, 3761, 3762, 3769, 3802, 3806, 3809, 3821, 3825, 3861, 3875, 3934, 3938, 3946, 3953, 3973, 3981, 3986, 3991, 3992, 3996, 3999, 4000, 4001, 4039, 4043, 4052, 4066, 4091, 4101, 4104, 4105, 4113, 4117, 4134, 4140, 4151, 4155, 4157, 4160, 4198, 4199, 4202, 4219, 4231, 4244, 4250, 4251, 4255, 4266, 4272, 4274, 4328, 4345, 4351, 4416, 4424, 4425, 4439, 4451, 4463, 4478, 4480, 4482, 4484, 4488, 4495, 4496, 4497, 4498, 4499, 4500, 4510, 4532, 4539, 4543, 4552, 4567, 4588, 4594, 4612, 4616, 4617, 4633, 4636, 4652, 4654, 4689, 4695, 4743, 4750, 4752, 4769, 4771, 4773, 4794, 4810, 4813, 4857, 4870, 4874, 4922, 4938, 4941, 4953, 4955, 4968, 4974, 4976, 4988, 4990, 4996, 4998, 5001, 5002, 5032, 5047, 5087, 5111, 5114, 5115, 5121, 5132, 5145, 5146, 5151, 5166, 5167, 5172, 5184, 5203, 5222, 5241, 5246, 5247, 5269, 5270, 5282, 5313, 5334, 5358, 5376, 5379, 5387, 5414, 5432, 5434, 5438, 5458, 5462, 5464, 5465, 5476, 5480, 5483, 5489, 5491, 5496, 5497, 5498, 5499, 5500, 5502, 5517, 5524, 5526, 5539, 5545, 5546, 5547, 5566, 5590, 5613, 5617, 5622, 5626, 5632, 5633, 5639, 5644, 5653, 5662, 5669, 5670, 5687, 5689, 5737, 5748, 5771, 5790, 5799, 5845, 5861, 5862, 5869, 5870, 5876, 5904, 5909, 5933, 5966, 5976, 5978, 5983, 5990, 5998, 6005, 6017, 6027, 6029, 6031, 6032, 6034, 6054, 6055, 6061, 6096, 6121, 6136, 6148, 6157, 6158, 6163, 6172, 6238, 6243, 6248, 6253, 6258, 6259, 6267, 6278, 6279, 6295, 6304, 6359, 6366, 6399, 6415, 6441, 6447, 6448, 6472, 6488, 6491, 6492, 6493, 6494, 6495, 6496, 6497, 6499, 6500, 6522, 6537, 6549, 6551, 6553, 6554, 6564, 6566, 6569, 6601, 6615, 6619, 6625, 6637, 6642, 6651, 6656, 6664, 6672, 6673, 6675, 6689, 6691, 6693, 6694, 6714, 6723, 6726, 6735, 6747, 6762, 6763, 6770, 6777, 6784, 6785, 6788, 6802, 6812, 6853, 6866, 6911, 6943, 6958, 6969, 6970, 6972, 6985, 6986, 6994, 6998, 6999, 7011, 7036, 7047, 7082, 7102, 7112, 7115, 7116, 7120, 7139, 7143, 7159, 7161, 7179, 7181, 7193, 7199, 7224, 7239, 7242, 7270, 7271, 7306, 7309, 7323, 7363, 7367, 7377, 7416, 7439, 7447, 7463, 7473, 7474, 7475, 7489, 7493, 7496, 7497, 7499, 7500, 7523, 7541, 7544, 7554, 7560, 7611, 7623, 7634, 7642, 7645, 7646, 7651, 7690, 7702, 7704, 7711, 7745, 7760, 7764, 7765, 7777, 7789, 7797, 7826, 7904, 7923, 7929, 7950, 7963, 7966, 7968, 7969, 7970, 7979, 7990, 7991, 7996, 7998, 8000, 8001, 8018, 8024, 8041, 8047, 8060, 8062, 8128, 8130, 8131, 8132, 8137, 8159, 8163, 8173, 8174, 8176, 8192, 8193, 8194, 8195, 8226, 8232, 8252, 8265, 8267, 8270, 8272, 8273, 8282, 8283, 8295, 8297, 8300, 8310, 8322, 8373, 8377, 8384, 8395, 8416, 8427, 8438, 8440, 8448, 8485, 8488, 8491, 8493, 8496, 8498, 8511, 8512, 8513, 8514, 8515, 8542, 8550, 8554, 8555, 8556, 8558, 8568, 8576, 8598, 8625, 8627, 8628, 8629, 8635, 8638, 8640, 8643, 8644, 8645, 8646, 8647, 8652, 8658, 8664, 8668, 8671, 8673, 8675, 8676, 8683, 8686, 8687, 8688, 8689, 8704, 8723, 8739, 8740, 8759, 8765, 8766, 8801, 8874, 8875, 8890, 8912, 8916, 8917, 8925, 8946, 8956, 8959, 8966, 8967, 8969, 8970, 8972, 8980, 8981, 8983, 8984, 8985, 8987, 8988, 8996, 8997, 8998, 8999, 9031, 9052, 9053, 9059, 9067, 9079, 9080, 9081, 9091, 9134, 9164, 9176, 9197, 9210, 9216, 9220, 9225, 9237, 9264, 9269, 9270, 9286, 9303, 9305, 9409, 9438, 9444, 9446, 9451, 9487, 9489, 9497, 9514, 9517, 9527, 9564, 9571, 9582, 9628, 9646, 9649, 9650, 9652, 9662, 9674, 9675, 9753, 9754, 9774, 9775, 9780, 9785, 9804, 9805, 9823, 9864, 9900, 9921, 9938, 9940, 9944, 9947, 9955, 9974, 9978, 9985, 9986, 9987, 9988, 9991, 9992, 9995, 9996, 9997, 9998, 9999, 10000, 10036, 10046, 10047, 10062, 10097, 10102, 10133, 10144, 10150, 10159, 10181, 10190, 10195, 10223, 10229, 10257, 10258, 10266, 10271, 10287, 10297, 10378, 10386, 10438, 10460, 10489, 10491, 10492, 10496, 10497, 10498, 10499, 10503, 10507, 10515, 10519, 10538, 10547, 10583, 10605, 10608, 10613, 10629, 10635, 10646, 10658, 10662, 10671, 10681, 10686, 10692, 10729, 10730, 10731, 10735, 10736, 10749, 10766, 10768, 10772, 10787, 10810, 10852, 10853, 10857, 10867, 10899, 10918, 10932, 10949, 10952, 10974, 10986, 10989, 10995, 10996, 10997, 10999, 11013, 11040, 11045, 11093, 11123, 11131, 11133, 11136, 11141, 11146, 11161, 11162, 11163, 11165, 11171, 11185, 11193, 11211, 11220, 11226, 11234, 11240, 11248, 11252, 11253, 11270, 11281, 11282, 11292, 11311, 11342, 11368, 11373, 11421, 11434, 11435, 11445, 11450, 11465, 11467, 11472, 11474, 11490, 11491, 11497, 11499, 11500, 11503, 11504, 11531, 11546, 11552, 11557, 11560, 11563, 11567, 11593, 11610, 11629, 11637, 11644, 11650, 11653, 11654, 11667, 11669, 11678, 11679, 11689, 11706, 11723, 11755, 11759, 11764, 11772, 11793, 11802, 11803, 11871, 11873, 11915, 11938, 11945, 11954, 11964, 11965, 11990, 11999, 12003, 12019, 12030, 12031, 12037, 12046, 12051, 12054, 12067, 12096, 12103, 12121, 12151, 12162, 12185, 12209, 12219, 12225, 12240, 12242, 12243, 12276, 12277, 12303, 12311, 12324, 12327, 12412, 12425, 12428, 12437, 12439, 12440, 12457, 12469, 12476, 12483, 12495, 12496, 12498, 12499, 12507, 12510, 12520, 12521, 12539, 12540, 12568, 12602, 12639, 12647, 12666, 12673, 12677, 12683, 12684, 12685, 12688, 12689, 12725, 12736, 12741, 12764, 12765, 12780, 12811, 12823, 12827, 12831, 12863, 12876, 12917, 12940, 12947, 12951, 12955, 12966, 12971, 12972, 12973, 12978, 12987, 12990, 12992, 12995, 12998, 12999, 13018, 13040, 13080, 13081, 13084, 13085, 13117, 13160, 13179, 13189, 13192, 13196, 13222, 13229, 13237, 13241, 13260, 13309, 13409, 13423, 13461, 13472, 13479, 13488, 13489, 13490, 13497, 13498, 13499, 13516, 13522, 13537, 13552, 13554, 13569, 13621, 13625, 13626, 13634, 13682, 13701, 13718, 13723, 13744, 13749, 13750, 13767, 13770, 13784, 13794, 13807, 13810, 13813, 13864, 13871, 13909, 13944, 13982, 13992, 13993, 13995, 13998, 13999, 14000, 14023, 14029, 14037, 14041, 14043, 14044, 14051, 14054, 14060, 14073, 14098, 14114, 14125, 14128, 14131, 14140, 14149, 14164, 14187, 14203, 14229, 14235, 14251, 14255, 14271, 14297, 14304, 14316, 14318, 14325, 14332, 14336]\n"
     ]
    }
   ],
   "source": [
    "print(df[df['Fraud'] == True].index.to_numpy().tolist())"
   ]
  },
  {
   "cell_type": "markdown",
   "metadata": {},
   "source": [
    "## Binary Proportion Comparison Function"
   ]
  },
  {
   "cell_type": "code",
   "execution_count": 24,
   "metadata": {},
   "outputs": [],
   "source": [
    "def numeric_comparison(col):\n",
    "    print(f\"{str(col)} value_counts: \\n{df[col].value_counts()}\")\n",
    "    print(f\"\\n{str(col)} fraud proportion: {df[df['Fraud'] == True][col].sum() / df[df['Fraud'] == True][col].count()}\")\n",
    "    print(f\"{str(col)} not fraud proportion: {df[df['Fraud'] == False][col].sum() / df[df['Fraud'] == False][col].count()}\")"
   ]
  },
  {
   "cell_type": "code",
   "execution_count": 101,
   "metadata": {},
   "outputs": [],
   "source": [
    "def mean_comparison(col):\n",
    "    print(f\"{str(col)} fraud mean:\\n{df[df['Fraud'] == True][col].mean()}\\n\")\n",
    "    print(f\"{str(col)} not fraud mean:\\n{df[df['Fraud'] == False][col].mean()}\")\n",
    "    print(f\"\\n{str(col)} value_counts: \\n{df[col].value_counts()}\")\n",
    "      "
   ]
  },
  {
   "cell_type": "code",
   "execution_count": 132,
   "metadata": {},
   "outputs": [
    {
     "name": "stdout",
     "output_type": "stream",
     "text": [
      "user_type value_counts: \n",
      "3      7520\n",
      "1      3738\n",
      "4      3017\n",
      "5        59\n",
      "103       2\n",
      "2         1\n",
      "Name: user_type, dtype: int64\n",
      "\n",
      "user_type fraud proportion: 1.6194895591647331\n",
      "user_type not fraud proportion: 2.8193038945108864\n"
     ]
    }
   ],
   "source": [
    "numeric_comparison('user_type')"
   ]
  },
  {
   "cell_type": "code",
   "execution_count": 131,
   "metadata": {},
   "outputs": [
    {
     "name": "stdout",
     "output_type": "stream",
     "text": [
      "user_age fraud mean:\n",
      "87.1523588553751\n",
      "\n",
      "user_age not fraud mean:\n",
      "402.6830726770929\n",
      "\n",
      "user_age value_counts: \n",
      "0       2745\n",
      "1        199\n",
      "2        103\n",
      "3         78\n",
      "5         71\n",
      "        ... \n",
      "1195       1\n",
      "1203       1\n",
      "1211       1\n",
      "1275       1\n",
      "1947       1\n",
      "Name: user_age, Length: 1597, dtype: int64\n"
     ]
    }
   ],
   "source": [
    "mean_comparison('user_age')"
   ]
  },
  {
   "cell_type": "code",
   "execution_count": 109,
   "metadata": {},
   "outputs": [
    {
     "name": "stdout",
     "output_type": "stream",
     "text": [
      "show_map value_counts: \n",
      "1    12103\n",
      "0     2234\n",
      "Name: show_map, dtype: int64\n",
      "\n",
      "show_map fraud proportion: 0.7563805104408353\n",
      "show_map not fraud proportion: 0.8528825513646121\n"
     ]
    }
   ],
   "source": [
    "numeric_comparison('show_map')"
   ]
  },
  {
   "cell_type": "code",
   "execution_count": 106,
   "metadata": {},
   "outputs": [
    {
     "name": "stdout",
     "output_type": "stream",
     "text": [
      "num_payouts value_counts: \n",
      "0      5360\n",
      "1      1487\n",
      "2       889\n",
      "3       600\n",
      "4       464\n",
      "       ... \n",
      "444       1\n",
      "460       1\n",
      "468       1\n",
      "556       1\n",
      "955       1\n",
      "Name: num_payouts, Length: 564, dtype: int64\n",
      "\n",
      "num_payouts fraud proportion: 0.5823665893271461\n",
      "num_payouts not fraud proportion: 37.04139834406624\n"
     ]
    }
   ],
   "source": [
    "numeric_comparison('num_payouts')"
   ]
  },
  {
   "cell_type": "code",
   "execution_count": 103,
   "metadata": {},
   "outputs": [
    {
     "name": "stdout",
     "output_type": "stream",
     "text": [
      "org_facebook fraud mean:\n",
      "1.0355411954765752\n",
      "\n",
      "org_facebook not fraud mean:\n",
      "8.633205521472393\n",
      "\n",
      "org_facebook value_counts: \n",
      "0.0     8097\n",
      "12.0     509\n",
      "16.0     423\n",
      "14.0     413\n",
      "15.0     391\n",
      "        ... \n",
      "60.0       1\n",
      "75.0       1\n",
      "85.0       1\n",
      "80.0       1\n",
      "79.0       1\n",
      "Name: org_facebook, Length: 81, dtype: int64\n"
     ]
    }
   ],
   "source": [
    "mean_comparison('org_facebook')"
   ]
  },
  {
   "cell_type": "code",
   "execution_count": 25,
   "metadata": {
    "scrolled": true
   },
   "outputs": [
    {
     "name": "stdout",
     "output_type": "stream",
     "text": [
      "fb_published value_counts: \n",
      "0    12510\n",
      "1     1827\n",
      "Name: fb_published, dtype: int64\n",
      "\n",
      "fb_published fraud proportion: 0.02242846094354215\n",
      "fb_published not fraud proportion: 0.13784115302054584\n"
     ]
    }
   ],
   "source": [
    "numeric_comparison('fb_published')"
   ]
  },
  {
   "cell_type": "code",
   "execution_count": 26,
   "metadata": {},
   "outputs": [
    {
     "name": "stdout",
     "output_type": "stream",
     "text": [
      "has_analytics value_counts: \n",
      "0    13290\n",
      "1     1047\n",
      "Name: has_analytics, dtype: int64\n",
      "\n",
      "has_analytics fraud proportion: 0.0030935808197989174\n",
      "has_analytics not fraud proportion: 0.07996013492793622\n"
     ]
    }
   ],
   "source": [
    "numeric_comparison('has_analytics')"
   ]
  },
  {
   "cell_type": "code",
   "execution_count": 27,
   "metadata": {
    "scrolled": true
   },
   "outputs": [
    {
     "name": "stdout",
     "output_type": "stream",
     "text": [
      "has_header value_counts: \n",
      "0.0    7124\n",
      "1.0    1804\n",
      "Name: has_header, dtype: int64\n",
      "\n",
      "has_header fraud proportion: 0.06936416184971098\n",
      "has_header not fraud proportion: 0.2102509216315852\n"
     ]
    }
   ],
   "source": [
    "numeric_comparison('has_header')"
   ]
  },
  {
   "cell_type": "code",
   "execution_count": 28,
   "metadata": {
    "scrolled": false
   },
   "outputs": [
    {
     "name": "stdout",
     "output_type": "stream",
     "text": [
      "has_logo value_counts: \n",
      "1    12073\n",
      "0     2264\n",
      "Name: has_logo, dtype: int64\n",
      "\n",
      "has_logo fraud proportion: 0.645784996133024\n",
      "has_logo not fraud proportion: 0.8615455381784729\n"
     ]
    }
   ],
   "source": [
    "numeric_comparison('has_logo')"
   ]
  },
  {
   "cell_type": "code",
   "execution_count": 29,
   "metadata": {},
   "outputs": [
    {
     "name": "stdout",
     "output_type": "stream",
     "text": [
      "org_twitter fraud mean:\n",
      "0.2940226171243942\n",
      "\n",
      "org_twitter not fraud mean:\n",
      "4.687960122699386\n",
      "\n",
      "value_counts: \n",
      "0.0     9121\n",
      "15.0     847\n",
      "14.0     667\n",
      "12.0     613\n",
      "13.0     589\n",
      "11.0     509\n",
      "10.0     446\n",
      "16.0     354\n",
      "9.0      332\n",
      "8.0      317\n",
      "7.0      188\n",
      "6.0      131\n",
      "5.0       62\n",
      "2.0       38\n",
      "4.0       30\n",
      "17.0      12\n",
      "23.0       6\n",
      "3.0        5\n",
      "18.0       4\n",
      "20.0       3\n",
      "21.0       2\n",
      "19.0       1\n",
      "34.0       1\n",
      "Name: org_twitter, dtype: int64\n"
     ]
    }
   ],
   "source": [
    "print(f\"org_twitter fraud mean:\\n{df[df['Fraud'] == True]['org_twitter'].mean()}\\n\")\n",
    "print(f\"org_twitter not fraud mean:\\n{df[df['Fraud'] == False]['org_twitter'].mean()}\")\n",
    "print(f\"\\nvalue_counts: \\n{df['org_twitter'].value_counts()}\")\n",
    "      "
   ]
  },
  {
   "cell_type": "markdown",
   "metadata": {},
   "source": [
    "### body_length:"
   ]
  },
  {
   "cell_type": "code",
   "execution_count": 39,
   "metadata": {},
   "outputs": [
    {
     "name": "stdout",
     "output_type": "stream",
     "text": [
      "mean body_length fraud: 1508.8863109048723\n",
      "mean body_length not fraud: 3886.9945568843914\n"
     ]
    }
   ],
   "source": [
    "print(f\"mean body_length fraud: {df[df['Fraud'] == True].body_length.mean()}\")\n",
    "print(f\"mean body_length not fraud: {df[df['Fraud'] == False].body_length.mean()}\")\n"
   ]
  },
  {
   "cell_type": "markdown",
   "metadata": {},
   "source": [
    "### channels:"
   ]
  },
  {
   "cell_type": "code",
   "execution_count": 134,
   "metadata": {},
   "outputs": [
    {
     "name": "stdout",
     "output_type": "stream",
     "text": [
      "channels value_counts: \n",
      "8     3364\n",
      "0     2941\n",
      "5     2459\n",
      "11    2312\n",
      "6     1736\n",
      "4      556\n",
      "12     470\n",
      "10     237\n",
      "13     232\n",
      "9       20\n",
      "7       10\n",
      "Name: channels, dtype: int64\n",
      "\n",
      "channels fraud proportion: 4.149265274555297\n",
      "channels not fraud proportion: 6.377644894204232\n"
     ]
    }
   ],
   "source": [
    "numeric_comparison('channels')"
   ]
  },
  {
   "cell_type": "code",
   "execution_count": 107,
   "metadata": {},
   "outputs": [
    {
     "name": "stdout",
     "output_type": "stream",
     "text": [
      "Fraud channels mean: 4.149265274555297\n"
     ]
    }
   ],
   "source": [
    "# df[df['Fraud'] == True].channels.hist();\n",
    "print(f\"Fraud channels mean: {df[df['Fraud'] == True].channels.mean()}\")"
   ]
  },
  {
   "cell_type": "code",
   "execution_count": 108,
   "metadata": {},
   "outputs": [
    {
     "name": "stdout",
     "output_type": "stream",
     "text": [
      "Not fraud channels mean: 6.377644894204232\n"
     ]
    }
   ],
   "source": [
    "# df[df['Fraud'] == False].channels.hist();\n",
    "print(f\"Not fraud channels mean: {df[df['Fraud'] == False].channels.mean()}\")"
   ]
  },
  {
   "cell_type": "markdown",
   "metadata": {},
   "source": [
    "### delivery_method:"
   ]
  },
  {
   "cell_type": "code",
   "execution_count": 133,
   "metadata": {},
   "outputs": [
    {
     "name": "stdout",
     "output_type": "stream",
     "text": [
      "delivery_method value_counts: \n",
      "0.0    8520\n",
      "1.0    5554\n",
      "3.0     247\n",
      "Name: delivery_method, dtype: int64\n",
      "\n",
      "delivery_method fraud proportion: 0.07338017174082748\n",
      "delivery_method not fraud proportion: 0.4755368098159509\n"
     ]
    }
   ],
   "source": [
    "numeric_comparison('delivery_method')"
   ]
  },
  {
   "cell_type": "code",
   "execution_count": 91,
   "metadata": {},
   "outputs": [
    {
     "name": "stdout",
     "output_type": "stream",
     "text": [
      "Not fraud delivery_method mean: 0.4755368098159509\n"
     ]
    }
   ],
   "source": [
    "# df[df['Fraud'] == False].delivery_method.hist();\n",
    "print(f\"Not fraud delivery_method mean: {df[df['Fraud'] == False].delivery_method.mean()}\")"
   ]
  },
  {
   "cell_type": "code",
   "execution_count": 92,
   "metadata": {},
   "outputs": [
    {
     "name": "stdout",
     "output_type": "stream",
     "text": [
      "Fraud delivery_method mean: 0.07338017174082748\n"
     ]
    }
   ],
   "source": [
    "# df[df['Fraud'] == True].delivery_method.hist();\n",
    "print(f\"Fraud delivery_method mean: {df[df['Fraud'] == True].delivery_method.mean()}\")"
   ]
  },
  {
   "cell_type": "markdown",
   "metadata": {},
   "source": [
    "### listed (not useful):"
   ]
  },
  {
   "cell_type": "code",
   "execution_count": 44,
   "metadata": {},
   "outputs": [
    {
     "name": "stdout",
     "output_type": "stream",
     "text": [
      "proportion listed fraud:\n",
      "0.8321732405259087\n",
      "\n",
      "proportion listed not fraud:\n",
      "0.8597822753756517\n"
     ]
    }
   ],
   "source": [
    "val_cts_fraud = df[df['Fraud'] == True].listed.value_counts()\n",
    "val_cts_not_fraud = df[df['Fraud'] == False].listed.value_counts()\n",
    "\n",
    "print(f\"proportion listed fraud:\\n{val_cts_fraud[0]/(val_cts_fraud[0]+val_cts_fraud[1])}\\n\")\n",
    "print(f\"proportion listed not fraud:\\n{val_cts_not_fraud[0]/(val_cts_not_fraud[0]+val_cts_not_fraud[1])}\")"
   ]
  },
  {
   "cell_type": "markdown",
   "metadata": {},
   "source": [
    "### name_length:"
   ]
  },
  {
   "cell_type": "code",
   "execution_count": 42,
   "metadata": {
    "scrolled": true
   },
   "outputs": [
    {
     "name": "stdout",
     "output_type": "stream",
     "text": [
      "mean name_length fraud:\n",
      "29.97525135344161\n",
      "\n",
      "mean name_length not fraud:\n",
      "42.78457528365532\n"
     ]
    }
   ],
   "source": [
    "print(f\"mean name_length fraud:\\n{df[df['Fraud'] == True].name_length.mean()}\\n\")\n",
    "print(f\"mean name_length not fraud:\\n{df[df['Fraud'] == False].name_length.mean()}\")"
   ]
  },
  {
   "cell_type": "markdown",
   "metadata": {},
   "source": [
    "### ticket_types"
   ]
  },
  {
   "cell_type": "code",
   "execution_count": 116,
   "metadata": {
    "scrolled": true
   },
   "outputs": [
    {
     "name": "stdout",
     "output_type": "stream",
     "text": [
      "mean num ticket_types fraud:\n",
      "1.7300850734725444\n",
      "\n",
      "mean num ticket_types not fraud:\n",
      "2.789941735663907\n",
      "\n"
     ]
    }
   ],
   "source": [
    "print(f\"mean num ticket_types fraud:\\n{df[df['Fraud'] == True]['ticket_types'].map(lambda x: len(x)).mean()}\\n\")\n",
    "print(f\"mean num ticket_types not fraud:\\n{df[df['Fraud'] == False]['ticket_types'].map(lambda x: len(x)).mean()}\\n\")\n"
   ]
  },
  {
   "cell_type": "code",
   "execution_count": 171,
   "metadata": {},
   "outputs": [
    {
     "data": {
      "text/plain": [
       "0        [{'event_id': 527017, 'cost': 25.0, 'availabil...\n",
       "26       [{'event_id': 1386643, 'cost': 300.0, 'availab...\n",
       "51       [{'event_id': 1928009, 'cost': 30.0, 'availabi...\n",
       "54       [{'event_id': 1964043, 'cost': 500.0, 'availab...\n",
       "70       [{'event_id': 2228484, 'cost': 30.0, 'availabi...\n",
       "                               ...                        \n",
       "14316    [{'event_id': 5301408, 'cost': 120.0, 'availab...\n",
       "14318    [{'event_id': 5307036, 'cost': 55.0, 'availabi...\n",
       "14325    [{'event_id': 5350990, 'cost': 649.65, 'availa...\n",
       "14332    [{'event_id': 5456442, 'cost': 45.0, 'availabi...\n",
       "14336    [{'event_id': 5492990, 'cost': 283.0, 'availab...\n",
       "Name: ticket_types, Length: 1293, dtype: object"
      ]
     },
     "execution_count": 171,
     "metadata": {},
     "output_type": "execute_result"
    }
   ],
   "source": [
    "def ticket_types_cost():\n",
    "    fraud_tkts = df[df['Fraud'] == True]['ticket_types']\n",
    "    result = fraud_tkts.map(lambda x: x)\n",
    "    return result\n",
    "    \n",
    "ticket_types_cost()\n",
    "\n",
    "# print(f\"mean num ticket_types not fraud:\\n{df[df['Fraud'] == False]['ticket_types'].map(lambda x: len(x)).mean()}\\n\")\n",
    "\n"
   ]
  },
  {
   "cell_type": "markdown",
   "metadata": {},
   "source": [
    "### org_name:"
   ]
  },
  {
   "cell_type": "code",
   "execution_count": 40,
   "metadata": {},
   "outputs": [
    {
     "name": "stdout",
     "output_type": "stream",
     "text": [
      "Fraud:\n",
      "0.059077910302015764\n",
      "\n",
      "Not fraud:\n",
      "0.8389481760479878\n"
     ]
    },
    {
     "name": "stderr",
     "output_type": "stream",
     "text": [
      "/anaconda3/lib/python3.7/site-packages/ipykernel_launcher.py:2: UserWarning: Boolean Series key will be reindexed to match DataFrame index.\n",
      "  \n",
      "/anaconda3/lib/python3.7/site-packages/ipykernel_launcher.py:3: UserWarning: Boolean Series key will be reindexed to match DataFrame index.\n",
      "  This is separate from the ipykernel package so we can avoid doing imports until\n"
     ]
    }
   ],
   "source": [
    "# Binary if org_name exists:\n",
    "print(f\"Fraud:\\n{df[df['Fraud'] == True][df['org_name'] != '']['object_id'].count() / df['org_name'].count()}\\n\")\n",
    "print(f\"Not fraud:\\n{df[df['Fraud'] == False][df['org_name'] != '']['object_id'].count() / df['org_name'].count()}\")"
   ]
  },
  {
   "cell_type": "markdown",
   "metadata": {},
   "source": [
    "### venue_address"
   ]
  },
  {
   "cell_type": "code",
   "execution_count": 41,
   "metadata": {
    "scrolled": true
   },
   "outputs": [
    {
     "name": "stdout",
     "output_type": "stream",
     "text": [
      "Fraud:\n",
      "0.05182395201227593\n",
      "\n",
      "Not fraud:\n",
      "0.796749668689405\n"
     ]
    },
    {
     "name": "stderr",
     "output_type": "stream",
     "text": [
      "/anaconda3/lib/python3.7/site-packages/ipykernel_launcher.py:2: UserWarning: Boolean Series key will be reindexed to match DataFrame index.\n",
      "  \n",
      "/anaconda3/lib/python3.7/site-packages/ipykernel_launcher.py:3: UserWarning: Boolean Series key will be reindexed to match DataFrame index.\n",
      "  This is separate from the ipykernel package so we can avoid doing imports until\n"
     ]
    }
   ],
   "source": [
    "# Binary if venue_address exists:\n",
    "print(f\"Fraud:\\n{df[df['Fraud'] == True][df['venue_address'] != '']['object_id'].count() / df['venue_address'].count()}\\n\")\n",
    "print(f\"Not fraud:\\n{df[df['Fraud'] == False][df['venue_address'] != '']['object_id'].count() / df['venue_address'].count()}\")\n",
    "      "
   ]
  },
  {
   "cell_type": "code",
   "execution_count": 97,
   "metadata": {
    "scrolled": true
   },
   "outputs": [
    {
     "name": "stdout",
     "output_type": "stream",
     "text": [
      "Fraud:\n",
      "0.0308990723303341\n",
      "\n",
      "Not fraud:\n",
      "0.5390946502057613\n"
     ]
    },
    {
     "name": "stderr",
     "output_type": "stream",
     "text": [
      "/anaconda3/lib/python3.7/site-packages/ipykernel_launcher.py:2: UserWarning: Boolean Series key will be reindexed to match DataFrame index.\n",
      "  \n",
      "/anaconda3/lib/python3.7/site-packages/ipykernel_launcher.py:3: UserWarning: Boolean Series key will be reindexed to match DataFrame index.\n",
      "  This is separate from the ipykernel package so we can avoid doing imports until\n"
     ]
    }
   ],
   "source": [
    "# Binary if org_desc exists:\n",
    "print(f\"Fraud:\\n{df[df['Fraud'] == True][df['org_desc'] != '']['object_id'].count() / df['org_desc'].count()}\\n\")\n",
    "print(f\"Not fraud:\\n{df[df['Fraud'] == False][df['org_desc'] != '']['object_id'].count() / df['org_desc'].count()}\")\n"
   ]
  },
  {
   "cell_type": "code",
   "execution_count": 137,
   "metadata": {},
   "outputs": [
    {
     "name": "stdout",
     "output_type": "stream",
     "text": [
      "Fraud:\n",
      "0.057009275318603427\n",
      "\n",
      "Not fraud:\n",
      "0.7936053088002413\n"
     ]
    },
    {
     "name": "stderr",
     "output_type": "stream",
     "text": [
      "/anaconda3/lib/python3.7/site-packages/ipykernel_launcher.py:2: UserWarning: Boolean Series key will be reindexed to match DataFrame index.\n",
      "  \n",
      "/anaconda3/lib/python3.7/site-packages/ipykernel_launcher.py:3: UserWarning: Boolean Series key will be reindexed to match DataFrame index.\n",
      "  This is separate from the ipykernel package so we can avoid doing imports until\n"
     ]
    }
   ],
   "source": [
    "# Binary if venue_name exists:\n",
    "print(f\"Fraud:\\n{df[df['Fraud'] == True][df['venue_name'] != '']['venue_name'].count() / df['venue_name'].count()}\\n\")\n",
    "print(f\"Not fraud:\\n{df[df['Fraud'] == False][df['venue_name'] != '']['venue_name'].count() / df['venue_name'].count()}\")\n"
   ]
  },
  {
   "cell_type": "code",
   "execution_count": 45,
   "metadata": {
    "scrolled": true
   },
   "outputs": [
    {
     "data": {
      "text/plain": [
       "US    9234\n",
       "GB    2083\n",
       "CA    1262\n",
       "AU     742\n",
       "       316\n",
       "      ... \n",
       "SI       1\n",
       "IM       1\n",
       "TJ       1\n",
       "JE       1\n",
       "VI       1\n",
       "Name: country, Length: 72, dtype: int64"
      ]
     },
     "execution_count": 45,
     "metadata": {},
     "output_type": "execute_result"
    }
   ],
   "source": [
    "df['country'].value_counts()"
   ]
  },
  {
   "cell_type": "code",
   "execution_count": 96,
   "metadata": {},
   "outputs": [
    {
     "data": {
      "text/plain": [
       "gmail.com                3097\n",
       "yahoo.com                 792\n",
       "hotmail.com               399\n",
       "aol.com                   198\n",
       "live.com                   80\n",
       "                         ... \n",
       "tresnalee.com               1\n",
       "usgbc.org                   1\n",
       "heavenmedia.com             1\n",
       "larimercac.org              1\n",
       "blissfulcleveland.com       1\n",
       "Name: email_domain, Length: 5772, dtype: int64"
      ]
     },
     "execution_count": 96,
     "metadata": {},
     "output_type": "execute_result"
    }
   ],
   "source": [
    "df['email_domain'].value_counts()"
   ]
  },
  {
   "cell_type": "code",
   "execution_count": 93,
   "metadata": {},
   "outputs": [],
   "source": [
    "def check_keyword(keyword):\n",
    "    print(f\"fraud {str(keyword)} fraud:\\n{df[df['Fraud'] == True]['description'].str.contains(keyword).sum() / df[df['Fraud'] == True]['object_id'].count()}\\n\")\n",
    "    print(f\"not fraud {str(keyword)} fraud:\\n{df[df['Fraud'] == False]['description'].str.contains(keyword).sum() / df[df['Fraud'] == False]['object_id'].count()}\\n\")\n"
   ]
  },
  {
   "cell_type": "code",
   "execution_count": 95,
   "metadata": {},
   "outputs": [
    {
     "name": "stdout",
     "output_type": "stream",
     "text": [
      "fraud img fraud:\n",
      "0.0920340293890178\n",
      "\n",
      "not fraud img fraud:\n",
      "0.2944648880711438\n",
      "\n"
     ]
    }
   ],
   "source": [
    "check_keyword('img')"
   ]
  },
  {
   "cell_type": "code",
   "execution_count": null,
   "metadata": {},
   "outputs": [],
   "source": [
    "\n",
    "\n",
    "\n",
    "class imblearn.over_sampling.RandomOverSampler(\n",
    "        sampling_strategy=0.7,\n",
    "        random_state=None)"
   ]
  },
  {
   "cell_type": "code",
   "execution_count": null,
   "metadata": {},
   "outputs": [],
   "source": []
  },
  {
   "cell_type": "code",
   "execution_count": 179,
   "metadata": {},
   "outputs": [
    {
     "data": {
      "text/plain": [
       "(83.9451855259123, 1.9265274555297758)"
      ]
     },
     "execution_count": 179,
     "metadata": {},
     "output_type": "execute_result"
    }
   ],
   "source": [
    "def prev_payouts():\n",
    "    not_fraud_payouts = df[df['Fraud'] == False]['previous_payouts']\n",
    "    fraud_payouts = df[df['Fraud'] == True]['previous_payouts']\n",
    "    not_fraud_series = not_fraud_payouts.map(lambda x: len(x))\n",
    "    fraud_series = fraud_payouts.map(lambda x: len(x))\n",
    "    not_fraud_mean = not_fraud_series.mean()\n",
    "    fraud_mean = fraud_series.mean()\n",
    "    return not_fraud_mean, fraud_mean\n",
    "    \n",
    "prev_payouts()\n",
    "\n",
    "# print(f\"mean num ticket_types not fraud:\\n{df[df['Fraud'] == False]['ticket_types'].map(lambda x: len(x)).mean()}\\n\")\n",
    "\n",
    "\n"
   ]
  },
  {
   "cell_type": "code",
   "execution_count": 184,
   "metadata": {},
   "outputs": [
    {
     "data": {
      "text/plain": [
       "0"
      ]
     },
     "execution_count": 184,
     "metadata": {},
     "output_type": "execute_result"
    }
   ],
   "source": [
    "df['previous_payouts'].isna().sum()"
   ]
  },
  {
   "cell_type": "code",
   "execution_count": null,
   "metadata": {},
   "outputs": [],
   "source": [
    "def email_domain():\n",
    "    not_fraud_email = df[df['Fraud'] == False]['email_domain']\n",
    "    fraud_email = df[df['Fraud'] == True]['email_domain']\n",
    "    not_fraud_series = not_fraud_email.map(lambda x: len(x))\n",
    "    fraud_series = fraud_email.map(lambda x: len(x))\n",
    "    not_fraud_mean = not_fraud_series.mean()\n",
    "    fraud_mean = fraud_series.mean()\n",
    "    return not_fraud_mean, fraud_mean\n",
    "\n"
   ]
  }
 ],
 "metadata": {
  "kernelspec": {
   "display_name": "Python 3",
   "language": "python",
   "name": "python3"
  },
  "language_info": {
   "codemirror_mode": {
    "name": "ipython",
    "version": 3
   },
   "file_extension": ".py",
   "mimetype": "text/x-python",
   "name": "python",
   "nbconvert_exporter": "python",
   "pygments_lexer": "ipython3",
   "version": "3.7.3"
  }
 },
 "nbformat": 4,
 "nbformat_minor": 2
}
