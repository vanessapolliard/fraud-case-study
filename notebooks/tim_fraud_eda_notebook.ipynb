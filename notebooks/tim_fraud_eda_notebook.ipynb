{
 "cells": [
  {
   "cell_type": "code",
   "execution_count": 1,
   "metadata": {},
   "outputs": [],
   "source": [
    "import json\n",
    "from json.decoder import JSONDecodeError"
   ]
  },
  {
   "cell_type": "code",
   "execution_count": 2,
   "metadata": {},
   "outputs": [
    {
     "data": {
      "text/plain": [
       "'/Users/timothymiller/Galvanize/repos/fraud-detection-case-study/notebooks'"
      ]
     },
     "execution_count": 2,
     "metadata": {},
     "output_type": "execute_result"
    }
   ],
   "source": [
    "%pwd"
   ]
  },
  {
   "cell_type": "markdown",
   "metadata": {},
   "source": [
    "### Load Data"
   ]
  },
  {
   "cell_type": "code",
   "execution_count": 3,
   "metadata": {},
   "outputs": [],
   "source": [
    "with open('../data/raw/data.json', 'r') as handle:\n",
    "    data = json.load(handle)"
   ]
  },
  {
   "cell_type": "code",
   "execution_count": 4,
   "metadata": {
    "scrolled": true
   },
   "outputs": [
    {
     "name": "stdout",
     "output_type": "stream",
     "text": [
      "{\n",
      "    \"acct_type\": \"fraudster_event\",\n",
      "    \"approx_payout_date\": 1359784800,\n",
      "    \"body_length\": 448,\n",
      "    \"channels\": 0,\n",
      "    \"country\": \"US\",\n",
      "    \"currency\": \"USD\",\n",
      "    \"delivery_method\": 0.0,\n",
      "    \"description\": \"<p>Help us produce this incredible experience. The NYC Speed Dating Expose promises to be the event of the year. We plan to hold the event at 94 Houston Street New York. The event is scheduled for July 5 2013. This fund raising effort is needed for space rental, food, facilitation, security, and other accommodations. We plan to meet up regardless of the amount raised here. Yet the more money collected the more extravagant the event will be.</p>\",\n",
      "    \"email_domain\": \"gmail.com\",\n",
      "    \"event_created\": 1358975278,\n",
      "    \"event_end\": 1359352800,\n",
      "    \"event_published\": 1358975588.0,\n",
      "    \"event_start\": 1359342000,\n",
      "    \"fb_published\": 0,\n",
      "    \"gts\": 472.16,\n",
      "    \"has_analytics\": 0,\n",
      "    \"has_header\": null,\n",
      "    \"has_logo\": 1,\n",
      "    \"listed\": \"n\",\n",
      "    \"name\": \"The NYC Speed Dating Expose\",\n",
      "    \"name_length\": 27,\n",
      "    \"num_order\": 6,\n",
      "    \"num_payouts\": 0,\n",
      "    \"object_id\": 5307036,\n",
      "    \"org_desc\": \"We help those who are single, looking for mates, or like to date together. Dating NYC is the foremost resource for social networking and romantic interactions.\",\n",
      "    \"org_facebook\": 0.0,\n",
      "    \"org_name\": \"Dating NYC\",\n",
      "    \"org_twitter\": 0.0,\n",
      "    \"payee_name\": \"\",\n",
      "    \"payout_type\": \"\",\n",
      "    \"previous_payouts\": [],\n",
      "    \"sale_duration\": 4.0,\n",
      "    \"sale_duration2\": 4,\n",
      "    \"show_map\": 1,\n",
      "    \"ticket_types\": [\n",
      "        {\n",
      "            \"availability\": 1,\n",
      "            \"cost\": 55.0,\n",
      "            \"event_id\": 5307036,\n",
      "            \"quantity_sold\": 0,\n",
      "            \"quantity_total\": 200\n",
      "        }\n",
      "    ],\n",
      "    \"user_age\": 0,\n",
      "    \"user_created\": 1358975276,\n",
      "    \"user_type\": 1,\n",
      "    \"venue_address\": \"94 West Houston Street\",\n",
      "    \"venue_country\": \"US\",\n",
      "    \"venue_latitude\": 40.7272365,\n",
      "    \"venue_longitude\": -74.0000899,\n",
      "    \"venue_name\": \"Madame X\",\n",
      "    \"venue_state\": \"NY\"\n",
      "}\n"
     ]
    }
   ],
   "source": [
    "# print(json.dumps(VARIABLE, sort_keys=True, indent=4))\n",
    "print(json.dumps(data[14318], sort_keys=True, indent=4))"
   ]
  },
  {
   "cell_type": "code",
   "execution_count": 5,
   "metadata": {},
   "outputs": [],
   "source": [
    "import pandas as pd\n",
    "df = pd.read_json(r'../data/raw/data.json')"
   ]
  },
  {
   "cell_type": "code",
   "execution_count": 6,
   "metadata": {},
   "outputs": [
    {
     "name": "stdout",
     "output_type": "stream",
     "text": [
      "14337\n",
      "14337\n"
     ]
    }
   ],
   "source": [
    "# Are all object_ids unique?\n",
    "print(len(df))\n",
    "print(len(df['object_id'].unique()))"
   ]
  },
  {
   "cell_type": "code",
   "execution_count": 7,
   "metadata": {},
   "outputs": [],
   "source": [
    "# Make target column\n",
    "df['Fraud'] = df['acct_type'].str.contains('fraud')"
   ]
  },
  {
   "cell_type": "code",
   "execution_count": 8,
   "metadata": {},
   "outputs": [
    {
     "name": "stdout",
     "output_type": "stream",
     "text": [
      "Fraud #: 1293\n",
      "Not Fraud #: 13044\n",
      "Total #: 14337\n"
     ]
    }
   ],
   "source": [
    "# Number of fraud cases:\n",
    "print(f\"Fraud #: {df['Fraud'].sum()}\")\n",
    "# Number of legitimate cases:\n",
    "print(f\"Not Fraud #: {df['Fraud'].count() - df['Fraud'].sum()}\")\n",
    "# Total cases:\n",
    "print(f\"Total #: {df['Fraud'].count()}\")"
   ]
  },
  {
   "cell_type": "markdown",
   "metadata": {},
   "source": [
    "## Binary Proportion Comparison Function"
   ]
  },
  {
   "cell_type": "code",
   "execution_count": 9,
   "metadata": {},
   "outputs": [],
   "source": [
    "def numeric_comparison(col):\n",
    "    print(f\"value_counts: \\n{df[col].value_counts()}\")\n",
    "    print(f\"\\nFraud proportion: {df[df['Fraud'] == True][col].sum() / df[df['Fraud'] == True][col].count()}\")\n",
    "    print(f\"Not fraud proportion: {df[df['Fraud'] == False][col].sum() / df[df['Fraud'] == False][col].count()}\")"
   ]
  },
  {
   "cell_type": "code",
   "execution_count": 10,
   "metadata": {},
   "outputs": [
    {
     "name": "stdout",
     "output_type": "stream",
     "text": [
      "value_counts: \n",
      "0    12510\n",
      "1     1827\n",
      "Name: fb_published, dtype: int64\n",
      "\n",
      "Fraud proportion: 0.02242846094354215\n",
      "Not fraud proportion: 0.13784115302054584\n"
     ]
    }
   ],
   "source": [
    "numeric_comparison('fb_published')"
   ]
  },
  {
   "cell_type": "code",
   "execution_count": 11,
   "metadata": {},
   "outputs": [
    {
     "name": "stdout",
     "output_type": "stream",
     "text": [
      "value_counts: \n",
      "0    13290\n",
      "1     1047\n",
      "Name: has_analytics, dtype: int64\n",
      "\n",
      "Fraud proportion: 0.0030935808197989174\n",
      "Not fraud proportion: 0.07996013492793622\n"
     ]
    }
   ],
   "source": [
    "numeric_comparison('has_analytics')"
   ]
  },
  {
   "cell_type": "code",
   "execution_count": 12,
   "metadata": {
    "scrolled": true
   },
   "outputs": [
    {
     "name": "stdout",
     "output_type": "stream",
     "text": [
      "value_counts: \n",
      "0.0    7124\n",
      "1.0    1804\n",
      "Name: has_header, dtype: int64\n",
      "\n",
      "Fraud proportion: 0.06936416184971098\n",
      "Not fraud proportion: 0.2102509216315852\n"
     ]
    }
   ],
   "source": [
    "numeric_comparison('has_header')"
   ]
  },
  {
   "cell_type": "code",
   "execution_count": 13,
   "metadata": {
    "scrolled": true
   },
   "outputs": [
    {
     "name": "stdout",
     "output_type": "stream",
     "text": [
      "value_counts: \n",
      "1    12073\n",
      "0     2264\n",
      "Name: has_logo, dtype: int64\n",
      "\n",
      "Fraud proportion: 0.645784996133024\n",
      "Not fraud proportion: 0.8615455381784729\n"
     ]
    }
   ],
   "source": [
    "numeric_comparison('has_logo')"
   ]
  },
  {
   "cell_type": "markdown",
   "metadata": {},
   "source": [
    "### body_length:"
   ]
  },
  {
   "cell_type": "code",
   "execution_count": 14,
   "metadata": {},
   "outputs": [
    {
     "name": "stdout",
     "output_type": "stream",
     "text": [
      "Fraud: 1508.8863109048723\n",
      "Not fraud: 3886.9945568843914\n"
     ]
    }
   ],
   "source": [
    "print(f\"Fraud: {df[df['Fraud'] == True].body_length.mean()}\")\n",
    "print(f\"Not fraud: {df[df['Fraud'] == False].body_length.mean()}\")\n"
   ]
  },
  {
   "cell_type": "markdown",
   "metadata": {},
   "source": [
    "### channels:"
   ]
  },
  {
   "cell_type": "code",
   "execution_count": 24,
   "metadata": {},
   "outputs": [
    {
     "name": "stdout",
     "output_type": "stream",
     "text": [
      "Fraud channels mean: 4.149265274555297\n"
     ]
    },
    {
     "data": {
      "image/png": "[encoded data removed]",
      "text/plain": [
       "<Figure size 432x288 with 1 Axes>"
      ]
     },
     "metadata": {
      "needs_background": "light"
     },
     "output_type": "display_data"
    }
   ],
   "source": [
    "df[df['Fraud'] == True].channels.hist();\n",
    "print(f\"Fraud channels mean: {df[df['Fraud'] == True].channels.mean()}\")"
   ]
  },
  {
   "cell_type": "code",
   "execution_count": 25,
   "metadata": {},
   "outputs": [
    {
     "name": "stdout",
     "output_type": "stream",
     "text": [
      "Not fraud channels mean: 6.377644894204232\n"
     ]
    },
    {
     "data": {
      "image/png": "[encoded data removed]",
      "text/plain": [
       "<Figure size 432x288 with 1 Axes>"
      ]
     },
     "metadata": {
      "needs_background": "light"
     },
     "output_type": "display_data"
    }
   ],
   "source": [
    "df[df['Fraud'] == False].channels.hist();\n",
    "print(f\"Not fraud channels mean: {df[df['Fraud'] == False].channels.mean()}\")"
   ]
  },
  {
   "cell_type": "markdown",
   "metadata": {},
   "source": [
    "### delivery_method:"
   ]
  },
  {
   "cell_type": "code",
   "execution_count": 17,
   "metadata": {},
   "outputs": [
    {
     "name": "stdout",
     "output_type": "stream",
     "text": [
      "Fraud delivery_method mean: 0.4755368098159509\n"
     ]
    },
    {
     "data": {
      "image/png": "[encoded data removed]",
      "text/plain": [
       "<Figure size 432x288 with 1 Axes>"
      ]
     },
     "metadata": {
      "needs_background": "light"
     },
     "output_type": "display_data"
    }
   ],
   "source": [
    "df[df['Fraud'] == False].delivery_method.hist();\n",
    "print(f\"Fraud delivery_method mean: {df[df['Fraud'] == False].delivery_method.mean()}\")"
   ]
  },
  {
   "cell_type": "code",
   "execution_count": 18,
   "metadata": {},
   "outputs": [
    {
     "name": "stdout",
     "output_type": "stream",
     "text": [
      "Fraud delivery_method mean: 0.07338017174082748\n"
     ]
    },
    {
     "data": {
      "image/png": "[encoded data removed]",
      "text/plain": [
       "<Figure size 432x288 with 1 Axes>"
      ]
     },
     "metadata": {
      "needs_background": "light"
     },
     "output_type": "display_data"
    }
   ],
   "source": [
    "df[df['Fraud'] == True].delivery_method.hist();\n",
    "print(f\"Fraud delivery_method mean: {df[df['Fraud'] == True].delivery_method.mean()}\")"
   ]
  },
  {
   "cell_type": "markdown",
   "metadata": {},
   "source": [
    "### listed:"
   ]
  },
  {
   "cell_type": "code",
   "execution_count": 19,
   "metadata": {},
   "outputs": [
    {
     "name": "stdout",
     "output_type": "stream",
     "text": [
      "Fraud:\n",
      "0.8321732405259087\n",
      "\n",
      "Not fraud:\n",
      "0.8597822753756517\n"
     ]
    }
   ],
   "source": [
    "val_cts_fraud = df[df['Fraud'] == True].listed.value_counts()\n",
    "val_cts_not_fraud = df[df['Fraud'] == False].listed.value_counts()\n",
    "\n",
    "print(f\"Fraud:\\n{val_cts_fraud[0]/(val_cts_fraud[0]+val_cts_fraud[1])}\\n\")\n",
    "print(f\"Not fraud:\\n{val_cts_not_fraud[0]/(val_cts_not_fraud[0]+val_cts_not_fraud[1])}\")\n"
   ]
  },
  {
   "cell_type": "markdown",
   "metadata": {},
   "source": [
    "### name_length:"
   ]
  },
  {
   "cell_type": "code",
   "execution_count": 20,
   "metadata": {},
   "outputs": [
    {
     "name": "stdout",
     "output_type": "stream",
     "text": [
      "Fraud:\n",
      "29.97525135344161\n",
      "\n",
      "Not fraud:\n",
      "42.78457528365532\n"
     ]
    }
   ],
   "source": [
    "print(f\"Fraud:\\n{df[df['Fraud'] == True].name_length.mean()}\\n\")\n",
    "print(f\"Not fraud:\\n{df[df['Fraud'] == False].name_length.mean()}\")"
   ]
  },
  {
   "cell_type": "markdown",
   "metadata": {},
   "source": [
    "### org_name:"
   ]
  },
  {
   "cell_type": "code",
   "execution_count": 21,
   "metadata": {},
   "outputs": [
    {
     "name": "stdout",
     "output_type": "stream",
     "text": [
      "Fraud:\n",
      "0.059077910302015764\n",
      "\n",
      "Not fraud:\n",
      "0.8389481760479878\n"
     ]
    },
    {
     "name": "stderr",
     "output_type": "stream",
     "text": [
      "/anaconda3/lib/python3.7/site-packages/ipykernel_launcher.py:1: UserWarning: Boolean Series key will be reindexed to match DataFrame index.\n",
      "  \"\"\"Entry point for launching an IPython kernel.\n",
      "/anaconda3/lib/python3.7/site-packages/ipykernel_launcher.py:2: UserWarning: Boolean Series key will be reindexed to match DataFrame index.\n",
      "  \n"
     ]
    }
   ],
   "source": [
    "print(f\"Fraud:\\n{df[df['Fraud'] == True][df['org_name'] != '']['object_id'].count() / df['org_name'].count()}\\n\")\n",
    "print(f\"Not fraud:\\n{df[df['Fraud'] == False][df['org_name'] != '']['object_id'].count() / df['org_name'].count()}\")"
   ]
  },
  {
   "cell_type": "code",
   "execution_count": 22,
   "metadata": {},
   "outputs": [
    {
     "data": {
      "text/plain": [
       "0.0     9121\n",
       "15.0     847\n",
       "14.0     667\n",
       "12.0     613\n",
       "13.0     589\n",
       "11.0     509\n",
       "10.0     446\n",
       "16.0     354\n",
       "9.0      332\n",
       "8.0      317\n",
       "7.0      188\n",
       "6.0      131\n",
       "5.0       62\n",
       "2.0       38\n",
       "4.0       30\n",
       "17.0      12\n",
       "23.0       6\n",
       "3.0        5\n",
       "18.0       4\n",
       "20.0       3\n",
       "21.0       2\n",
       "19.0       1\n",
       "34.0       1\n",
       "Name: org_twitter, dtype: int64"
      ]
     },
     "execution_count": 22,
     "metadata": {},
     "output_type": "execute_result"
    }
   ],
   "source": [
    "df['org_twitter'].value_counts()"
   ]
  },
  {
   "cell_type": "markdown",
   "metadata": {},
   "source": [
    "### venue_address"
   ]
  },
  {
   "cell_type": "code",
   "execution_count": 23,
   "metadata": {},
   "outputs": [
    {
     "name": "stdout",
     "output_type": "stream",
     "text": [
      "Fraud:\n",
      "0.05182395201227593\n",
      "\n",
      "Not fraud:\n",
      "0.796749668689405\n"
     ]
    },
    {
     "name": "stderr",
     "output_type": "stream",
     "text": [
      "/anaconda3/lib/python3.7/site-packages/ipykernel_launcher.py:1: UserWarning: Boolean Series key will be reindexed to match DataFrame index.\n",
      "  \"\"\"Entry point for launching an IPython kernel.\n",
      "/anaconda3/lib/python3.7/site-packages/ipykernel_launcher.py:2: UserWarning: Boolean Series key will be reindexed to match DataFrame index.\n",
      "  \n"
     ]
    }
   ],
   "source": [
    "print(f\"Fraud:\\n{df[df['Fraud'] == True][df['venue_address'] != '']['object_id'].count() / df['venue_address'].count()}\\n\")\n",
    "print(f\"Not fraud:\\n{df[df['Fraud'] == False][df['venue_address'] != '']['object_id'].count() / df['venue_address'].count()}\")\n",
    "      "
   ]
  },
  {
   "cell_type": "code",
   "execution_count": null,
   "metadata": {},
   "outputs": [],
   "source": []
  }
 ],
 "metadata": {
  "kernelspec": {
   "display_name": "Python 3",
   "language": "python",
   "name": "python3"
  },
  "language_info": {
   "codemirror_mode": {
    "name": "ipython",
    "version": 3
   },
   "file_extension": ".py",
   "mimetype": "text/x-python",
   "name": "python",
   "nbconvert_exporter": "python",
   "pygments_lexer": "ipython3",
   "version": "3.7.3"
  }
 },
 "nbformat": 4,
 "nbformat_minor": 2
}
